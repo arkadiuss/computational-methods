{
 "cells": [
  {
   "cell_type": "markdown",
   "metadata": {},
   "source": [
    "# Sprawozdanie 1\n",
    "Arkadiusz Kraus"
   ]
  },
  {
   "cell_type": "code",
   "execution_count": 1,
   "metadata": {},
   "outputs": [],
   "source": [
    "import numpy as np\n",
    "import matplotlib.pyplot as plt \n",
    "import time\n",
    "from mpmath import zeta, altzeta\n",
    "from IPython.display import HTML, display\n",
    "import sys\n",
    "import tabulate"
   ]
  },
  {
   "cell_type": "markdown",
   "metadata": {},
   "source": [
    "# Zadanie 1"
   ]
  },
  {
   "cell_type": "markdown",
   "metadata": {},
   "source": [
    "## 1.1"
   ]
  },
  {
   "cell_type": "code",
   "execution_count": 41,
   "metadata": {},
   "outputs": [],
   "source": [
    "N = 10**7\n",
    "v = np.float32(0.5231)\n",
    "tab = [v for i in range(N)]\n",
    "exp_val = N * v"
   ]
  },
  {
   "cell_type": "code",
   "execution_count": 42,
   "metadata": {},
   "outputs": [
    {
     "data": {
      "text/plain": [
       "(5025255.5, 5231000.185012817)"
      ]
     },
     "execution_count": 42,
     "metadata": {},
     "output_type": "execute_result"
    }
   ],
   "source": [
    "def sum():\n",
    "    sum = np.float32(0)\n",
    "    for i in tab:\n",
    "        sum += i\n",
    "    return sum\n",
    "\n",
    "sum(), exp_val"
   ]
  },
  {
   "cell_type": "markdown",
   "metadata": {},
   "source": [
    "## 1.2"
   ]
  },
  {
   "cell_type": "code",
   "execution_count": 43,
   "metadata": {},
   "outputs": [
    {
     "data": {
      "text/plain": [
       "(205744.68501281738, 0.03933180610512887)"
      ]
     },
     "execution_count": 43,
     "metadata": {},
     "output_type": "execute_result"
    }
   ],
   "source": [
    "abs_diff = abs(exp_val - sum())\n",
    "rel_diff = abs_diff/exp_val\n",
    "abs_diff, rel_diff"
   ]
  },
  {
   "cell_type": "markdown",
   "metadata": {},
   "source": [
    "Otrzymany względny błąd jest duży (~4%) ponieważ wartość trzymana w zmiennej sum powiększa się, natomiast dodawana wartość jest stała i dochodzi pod koniec do dodawania dużej wartości do małej, przez co tracimy dokładność."
   ]
  },
  {
   "cell_type": "markdown",
   "metadata": {},
   "source": [
    "## 1.3"
   ]
  },
  {
   "cell_type": "code",
   "execution_count": 44,
   "metadata": {},
   "outputs": [
    {
     "data": {
      "text/plain": [
       "[<matplotlib.lines.Line2D at 0x7f2366f435c0>]"
      ]
     },
     "execution_count": 44,
     "metadata": {},
     "output_type": "execute_result"
    },
    {
     "data": {
      "image/png": "[encoded data removed]",
      "text/plain": [
       "<Figure size 432x288 with 1 Axes>"
      ]
     },
     "metadata": {
      "needs_background": "light"
     },
     "output_type": "display_data"
    }
   ],
   "source": [
    "def count_rel_diffs():\n",
    "    step = 25000\n",
    "    x = []\n",
    "    y = []\n",
    "    sum = np.float32(0)\n",
    "    for i,v in enumerate(tab):\n",
    "        sum += v\n",
    "        if i%step == 0:\n",
    "            c_exp_val = (i+1)*v\n",
    "            y.append(abs(c_exp_val - sum)/c_exp_val)\n",
    "            x.append(i)\n",
    "    return x, y\n",
    "x, y = count_rel_diffs()\n",
    "plt.plot(x,y, label = \"Relative diff\")"
   ]
  },
  {
   "cell_type": "markdown",
   "metadata": {},
   "source": [
    "Na początku gdy liczby są podobnego rzędu wielkości błąd jest niestabilny i na przemian rośnie i maleje. Następnie stabilizuje się on i zaczyna rosnąć. Szybkość wzrostu maleje, a wykres przypomina funkcję sqrt(x)."
   ]
  },
  {
   "cell_type": "markdown",
   "metadata": {},
   "source": [
    "## 1.4"
   ]
  },
  {
   "cell_type": "code",
   "execution_count": 45,
   "metadata": {},
   "outputs": [
    {
     "data": {
      "text/plain": [
       "(5231000.0, 5231000.185012817)"
      ]
     },
     "execution_count": 45,
     "metadata": {},
     "output_type": "execute_result"
    }
   ],
   "source": [
    "def rec_sum(start, end):\n",
    "    if(end - start <= 1):\n",
    "        return tab[start]\n",
    "    m = int((start + end)/2)\n",
    "    return rec_sum(start, m) + rec_sum(m, end)\n",
    "\n",
    "rec_sum(0, N), exp_val"
   ]
  },
  {
   "cell_type": "markdown",
   "metadata": {},
   "source": [
    "## 1.5"
   ]
  },
  {
   "cell_type": "code",
   "execution_count": 46,
   "metadata": {},
   "outputs": [
    {
     "data": {
      "text/plain": [
       "(0.1850128173828125, 3.5368535813263244e-08)"
      ]
     },
     "execution_count": 46,
     "metadata": {},
     "output_type": "execute_result"
    }
   ],
   "source": [
    "rec_abs_diff = abs(exp_val - rec_sum(0, N))\n",
    "rec_rel_diff = rec_abs_diff/exp_val\n",
    "rec_abs_diff, rec_rel_diff"
   ]
  },
  {
   "cell_type": "markdown",
   "metadata": {},
   "source": [
    "Błąd znacząco zmalał, ponieważ teraz cały czas dodajemy liczby podobnego rzędu, więc nie dochodzi do dodawania dużych liczb z małymi (cały czas dodajemy takie same liczby do siebie)."
   ]
  },
  {
   "cell_type": "markdown",
   "metadata": {},
   "source": [
    "## 1.6"
   ]
  },
  {
   "cell_type": "code",
   "execution_count": 47,
   "metadata": {},
   "outputs": [
    {
     "name": "stdout",
     "output_type": "stream",
     "text": [
      "Sum took 852 ms\n",
      "Recursive sum took 6452 ms\n"
     ]
    }
   ],
   "source": [
    "def time_in_milis():\n",
    "    return int(time.time()*1000)\n",
    "\n",
    "st_t = time_in_milis()\n",
    "sum()\n",
    "en_t = time_in_milis()\n",
    "print(\"Sum took \" + str(en_t - st_t) + \" ms\")\n",
    "st_t = time_in_milis()\n",
    "rec_sum(0, N)\n",
    "en_t = time_in_milis()\n",
    "print(\"Recursive sum took \" + str(en_t - st_t) + \" ms\")"
   ]
  },
  {
   "cell_type": "markdown",
   "metadata": {},
   "source": [
    "Drugi algorytm działa około 8 razy wolniej. Wynika to z zastosowania rekurencji. "
   ]
  },
  {
   "cell_type": "markdown",
   "metadata": {},
   "source": [
    "## 1.7"
   ]
  },
  {
   "cell_type": "markdown",
   "metadata": {},
   "source": [
    "Dla danych użytych w podpunktach 1.5-1.6 błąd wychodzi bardzo mały jednak niezerowy."
   ]
  },
  {
   "cell_type": "markdown",
   "metadata": {},
   "source": [
    "# Zadanie 2"
   ]
  },
  {
   "cell_type": "markdown",
   "metadata": {},
   "source": [
    "## 2.1"
   ]
  },
  {
   "cell_type": "code",
   "execution_count": 48,
   "metadata": {},
   "outputs": [
    {
     "data": {
      "text/plain": [
       "5231000.0"
      ]
     },
     "execution_count": 48,
     "metadata": {},
     "output_type": "execute_result"
    }
   ],
   "source": [
    "def kahan():\n",
    "    sum = np.float32(0)\n",
    "    err = np.float32(0)\n",
    "    for i in tab:\n",
    "        y = i - err\n",
    "        tmp = sum + y\n",
    "        err = (tmp - sum) - y\n",
    "        sum = tmp\n",
    "    return sum\n",
    "\n",
    "kahan()"
   ]
  },
  {
   "cell_type": "code",
   "execution_count": 49,
   "metadata": {},
   "outputs": [
    {
     "data": {
      "text/plain": [
       "(0.1850128173828125, 3.5368535813263244e-08)"
      ]
     },
     "execution_count": 49,
     "metadata": {},
     "output_type": "execute_result"
    }
   ],
   "source": [
    "kah_abs_diff = abs(exp_val - kahan())\n",
    "kah_rel_diff = kah_abs_diff/exp_val\n",
    "kah_abs_diff, kah_rel_diff"
   ]
  },
  {
   "cell_type": "markdown",
   "metadata": {},
   "source": [
    "## 2.2"
   ]
  },
  {
   "cell_type": "markdown",
   "metadata": {},
   "source": [
    "Zadaniem zmiennej err jest przenoszenie błędu z poprzedniego dodawania tak, aby kompensował się on w następnym kroku. Dzięki tej kompensacji algorytm ma znacznie lepsze właściwości numeryczne. "
   ]
  },
  {
   "cell_type": "markdown",
   "metadata": {},
   "source": [
    "## 2.3"
   ]
  },
  {
   "cell_type": "code",
   "execution_count": 50,
   "metadata": {},
   "outputs": [
    {
     "name": "stdout",
     "output_type": "stream",
     "text": [
      "Sum took 843 ms\n",
      "Kahan sum took 3475 ms\n"
     ]
    }
   ],
   "source": [
    "st_t = time_in_milis()\n",
    "sum()\n",
    "en_t = time_in_milis()\n",
    "print(\"Sum took \" + str(en_t - st_t) + \" ms\")\n",
    "st_t = time_in_milis()\n",
    "kahan()\n",
    "en_t = time_in_milis()\n",
    "print(\"Kahan sum took \" + str(en_t - st_t) + \" ms\")"
   ]
  },
  {
   "cell_type": "markdown",
   "metadata": {},
   "source": [
    "# Zadanie 3"
   ]
  },
  {
   "cell_type": "code",
   "execution_count": 51,
   "metadata": {},
   "outputs": [],
   "source": [
    "headers = [\"x\", \"n\", \"expected value\", \"forward result\", \"forward relative diff\", \n",
    "           \"backward result\", \"backward relative diff\"]\n",
    "\n",
    "xs = [2, 3.6667, 5, 7.2, 10]\n",
    "ns = [50, 100, 200, 500, 1000]"
   ]
  },
  {
   "cell_type": "code",
   "execution_count": 52,
   "metadata": {},
   "outputs": [],
   "source": [
    "def comp(fun1, fun2, exp, x, n, f = np.float64):\n",
    "    vf1 = fun1(x, n, f)\n",
    "    vf2 = fun2(x, n, f)\n",
    "    vexp = exp(x)\n",
    "    return [x, n, vexp, vf1, abs(vf1-vexp)/vexp, vf2, abs(vf2-vexp)/vexp]"
   ]
  },
  {
   "cell_type": "code",
   "execution_count": 53,
   "metadata": {},
   "outputs": [],
   "source": [
    "def dzeta(s, n, f = np.float64):\n",
    "    sum = f(0)\n",
    "    for k in range(1,n+1):\n",
    "        sum += f(1)/(f(k)**f(s))\n",
    "    return sum"
   ]
  },
  {
   "cell_type": "code",
   "execution_count": 54,
   "metadata": {},
   "outputs": [],
   "source": [
    "def dzeta_back(s, n, f = np.float64):\n",
    "    sum = f(0)\n",
    "    for k in range(n,0,-1):\n",
    "        sum += f(1)/(f(k)**f(s))\n",
    "    return sum"
   ]
  },
  {
   "cell_type": "code",
   "execution_count": 55,
   "metadata": {},
   "outputs": [
    {
     "data": {
      "text/html": [
       "<table>\n",
       "<tbody>\n",
       "<tr><td>x     </td><td>n   </td><td>expected value  </td><td>forward result    </td><td>forward relative diff</td><td>backward result   </td><td>backward relative diff</td></tr>\n",
       "<tr><td>2     </td><td>50  </td><td>1.64493406684823</td><td>1.625132733621529 </td><td>0.0120377671213519   </td><td>1.6251327336215293</td><td>0.0120377671213518    </td></tr>\n",
       "<tr><td>2     </td><td>100 </td><td>1.64493406684823</td><td>1.6349839001848923</td><td>0.00604897598260528  </td><td>1.634983900184893 </td><td>0.00604897598260487   </td></tr>\n",
       "<tr><td>2     </td><td>200 </td><td>1.64493406684823</td><td>1.6399465460149971</td><td>0.00303204908558166  </td><td>1.6399465460149973</td><td>0.00303204908558153   </td></tr>\n",
       "<tr><td>2     </td><td>500 </td><td>1.64493406684823</td><td>1.642936065514894 </td><td>0.00121463916007331  </td><td>1.6429360655148941</td><td>0.00121463916007317   </td></tr>\n",
       "<tr><td>2     </td><td>1000</td><td>1.64493406684823</td><td>1.6439345666815615</td><td>0.000607623239623237 </td><td>1.6439345666815597</td><td>0.000607623239624317  </td></tr>\n",
       "<tr><td>3.6667</td><td>50  </td><td>1.10941051458645</td><td>1.1093997551541945</td><td>9.69833268880896e-6  </td><td>1.1093997551541943</td><td>9.69833268900911e-6   </td></tr>\n",
       "<tr><td>3.6667</td><td>100 </td><td>1.10941051458645</td><td>1.1094087973421474</td><td>1.54788897663159e-6  </td><td>1.1094087973421476</td><td>1.54788897643144e-6   </td></tr>\n",
       "<tr><td>3.6667</td><td>200 </td><td>1.10941051458645</td><td>1.1094102423332313</td><td>2.45403499073838e-7  </td><td>1.109410242333231 </td><td>2.45403499273985e-7   </td></tr>\n",
       "<tr><td>3.6667</td><td>500 </td><td>1.10941051458645</td><td>1.1094104908440712</td><td>2.14008989190728e-8  </td><td>1.1094104908440725</td><td>2.14008977181939e-8   </td></tr>\n",
       "<tr><td>3.6667</td><td>1000</td><td>1.10941051458645</td><td>1.1094105108423578</td><td>3.37485146473295e-9  </td><td>1.1094105108423593</td><td>3.37485006370762e-9   </td></tr>\n",
       "<tr><td>5     </td><td>50  </td><td>1.03692775514337</td><td>1.036927716716712 </td><td>3.70581825851756e-8  </td><td>1.0369277167167108</td><td>3.70581836558606e-8   </td></tr>\n",
       "<tr><td>5     </td><td>100 </td><td>1.03692775514337</td><td>1.0369277526929555</td><td>2.36314875919962e-9  </td><td>1.0369277526929532</td><td>2.36315090056968e-9   </td></tr>\n",
       "<tr><td>5     </td><td>200 </td><td>1.03692775514337</td><td>1.0369277549886775</td><td>1.49183470381259e-10 </td><td>1.036927754988676 </td><td>1.49184969340301e-10  </td></tr>\n",
       "<tr><td>5     </td><td>500 </td><td>1.03692775514337</td><td>1.0369277551393863</td><td>3.84183202465169e-12 </td><td>1.0369277551393858</td><td>3.84226029866369e-12  </td></tr>\n",
       "<tr><td>5     </td><td>1000</td><td>1.03692775514337</td><td>1.0369277551431222</td><td>2.38976898696354e-13 </td><td>1.0369277551431204</td><td>2.40689994744357e-13  </td></tr>\n",
       "<tr><td>7.2   </td><td>50  </td><td>1.00722766648072</td><td>1.0072276664762816</td><td>4.40373430515507e-12 </td><td>1.0072276664762823</td><td>4.40307295138477e-12  </td></tr>\n",
       "<tr><td>7.2   </td><td>100 </td><td>1.00722766648072</td><td>1.007227666480654 </td><td>6.26081569215078e-14 </td><td>1.007227666480655 </td><td>6.17263518944443e-14  </td></tr>\n",
       "<tr><td>7.2   </td><td>200 </td><td>1.00722766648072</td><td>1.0072276664807145</td><td>2.64541508119047e-15 </td><td>1.0072276664807163</td><td>8.81805027063491e-16  </td></tr>\n",
       "<tr><td>7.2   </td><td>500 </td><td>1.00722766648072</td><td>1.0072276664807145</td><td>2.64541508119047e-15 </td><td>1.0072276664807172</td><td>0.0                   </td></tr>\n",
       "<tr><td>7.2   </td><td>1000</td><td>1.00722766648072</td><td>1.0072276664807145</td><td>2.64541508119047e-15 </td><td>1.0072276664807172</td><td>0.0                   </td></tr>\n",
       "<tr><td>10    </td><td>50  </td><td>1.00099457512782</td><td>1.0009945751278182</td><td>2.21823984307486e-16 </td><td>1.000994575127818 </td><td>0.0                   </td></tr>\n",
       "<tr><td>10    </td><td>100 </td><td>1.00099457512782</td><td>1.0009945751278182</td><td>2.21823984307486e-16 </td><td>1.000994575127818 </td><td>0.0                   </td></tr>\n",
       "<tr><td>10    </td><td>200 </td><td>1.00099457512782</td><td>1.0009945751278182</td><td>2.21823984307486e-16 </td><td>1.000994575127818 </td><td>0.0                   </td></tr>\n",
       "<tr><td>10    </td><td>500 </td><td>1.00099457512782</td><td>1.0009945751278182</td><td>2.21823984307486e-16 </td><td>1.000994575127818 </td><td>0.0                   </td></tr>\n",
       "<tr><td>10    </td><td>1000</td><td>1.00099457512782</td><td>1.0009945751278182</td><td>2.21823984307486e-16 </td><td>1.000994575127818 </td><td>0.0                   </td></tr>\n",
       "</tbody>\n",
       "</table>"
      ],
      "text/plain": [
       "<IPython.core.display.HTML object>"
      ]
     },
     "metadata": {},
     "output_type": "display_data"
    }
   ],
   "source": [
    "dzeta_table = [ headers ]\n",
    "for x in xs:\n",
    "    for n in ns:\n",
    "        dzeta_table.append(comp(dzeta, dzeta_back, zeta, x, n))\n",
    "display(HTML(tabulate.tabulate(dzeta_table, tablefmt='html')))"
   ]
  },
  {
   "cell_type": "code",
   "execution_count": 56,
   "metadata": {},
   "outputs": [
    {
     "data": {
      "text/html": [
       "<table>\n",
       "<tbody>\n",
       "<tr><td>x     </td><td>n   </td><td>expected value  </td><td>forward result    </td><td>forward relative diff</td><td>backward result   </td><td>backward relative diff</td></tr>\n",
       "<tr><td>2     </td><td>50  </td><td>1.64493406684823</td><td>1.6251329183578491</td><td>0.0120376548151363   </td><td>1.62513267993927  </td><td>0.0120377997562521    </td></tr>\n",
       "<tr><td>2     </td><td>100 </td><td>1.64493406684823</td><td>1.634984016418457 </td><td>0.00604890532107111  </td><td>1.6349838972091675</td><td>0.00604897779162902   </td></tr>\n",
       "<tr><td>2     </td><td>200 </td><td>1.64493406684823</td><td>1.639946699142456 </td><td>0.00303195599524934  </td><td>1.639946460723877 </td><td>0.00303210093636516   </td></tr>\n",
       "<tr><td>2     </td><td>500 </td><td>1.64493406684823</td><td>1.6429359912872314</td><td>0.00121468428508102  </td><td>1.6429359912872314</td><td>0.00121468428508102   </td></tr>\n",
       "<tr><td>2     </td><td>1000</td><td>1.64493406684823</td><td>1.6439348459243774</td><td>0.000607453480347404 </td><td>1.6439344882965088</td><td>0.000607670892021136  </td></tr>\n",
       "<tr><td>3.6667</td><td>50  </td><td>1.10941051458645</td><td>1.109399437904358 </td><td>9.98429521796486e-6  </td><td>1.1093997955322266</td><td>9.66193675466361e-6   </td></tr>\n",
       "<tr><td>3.6667</td><td>100 </td><td>1.10941051458645</td><td>1.1094086170196533</td><td>1.71042799323265e-6  </td><td>1.1094088554382324</td><td>1.49552235103181e-6   </td></tr>\n",
       "<tr><td>3.6667</td><td>200 </td><td>1.10941051458645</td><td>1.1094086170196533</td><td>1.71042799323265e-6  </td><td>1.109410285949707 </td><td>2.06088497826792e-7   </td></tr>\n",
       "<tr><td>3.6667</td><td>500 </td><td>1.10941051458645</td><td>1.1094086170196533</td><td>1.71042799323265e-6  </td><td>1.1094105243682861</td><td>8.81714437404423e-9   </td></tr>\n",
       "<tr><td>3.6667</td><td>1000</td><td>1.10941051458645</td><td>1.1094086170196533</td><td>1.71042799323265e-6  </td><td>1.1094105243682861</td><td>8.81714437404423e-9   </td></tr>\n",
       "<tr><td>5     </td><td>50  </td><td>1.03692775514337</td><td>1.0369274616241455</td><td>2.83066224262368e-7  </td><td>1.0369277000427246</td><td>5.31383648536882e-8   </td></tr>\n",
       "<tr><td>5     </td><td>100 </td><td>1.03692775514337</td><td>1.0369274616241455</td><td>2.83066224262368e-7  </td><td>1.0369277000427246</td><td>5.31383648536882e-8   </td></tr>\n",
       "<tr><td>5     </td><td>200 </td><td>1.03692775514337</td><td>1.0369274616241455</td><td>2.83066224262368e-7  </td><td>1.0369277000427246</td><td>5.31383648536882e-8   </td></tr>\n",
       "<tr><td>5     </td><td>500 </td><td>1.03692775514337</td><td>1.0369274616241455</td><td>2.83066224262368e-7  </td><td>1.0369277000427246</td><td>5.31383648536882e-8   </td></tr>\n",
       "<tr><td>5     </td><td>1000</td><td>1.03692775514337</td><td>1.0369274616241455</td><td>2.83066224262368e-7  </td><td>1.0369277000427246</td><td>5.31383648536882e-8   </td></tr>\n",
       "<tr><td>7.2   </td><td>50  </td><td>1.00722766648072</td><td>1.0072276592254639</td><td>7.20319102471824e-9  </td><td>1.0072276592254639</td><td>7.20319102471824e-9   </td></tr>\n",
       "<tr><td>7.2   </td><td>100 </td><td>1.00722766648072</td><td>1.0072276592254639</td><td>7.20319102471824e-9  </td><td>1.0072276592254639</td><td>7.20319102471824e-9   </td></tr>\n",
       "<tr><td>7.2   </td><td>200 </td><td>1.00722766648072</td><td>1.0072276592254639</td><td>7.20319102471824e-9  </td><td>1.0072276592254639</td><td>7.20319102471824e-9   </td></tr>\n",
       "<tr><td>7.2   </td><td>500 </td><td>1.00722766648072</td><td>1.0072276592254639</td><td>7.20319102471824e-9  </td><td>1.0072276592254639</td><td>7.20319102471824e-9   </td></tr>\n",
       "<tr><td>7.2   </td><td>1000</td><td>1.00722766648072</td><td>1.0072276592254639</td><td>7.20319102471824e-9  </td><td>1.0072276592254639</td><td>7.20319102471824e-9   </td></tr>\n",
       "<tr><td>10    </td><td>50  </td><td>1.00099457512782</td><td>1.0009945631027222</td><td>1.20131478299608e-8  </td><td>1.0009945631027222</td><td>1.20131478299608e-8   </td></tr>\n",
       "<tr><td>10    </td><td>100 </td><td>1.00099457512782</td><td>1.0009945631027222</td><td>1.20131478299608e-8  </td><td>1.0009945631027222</td><td>1.20131478299608e-8   </td></tr>\n",
       "<tr><td>10    </td><td>200 </td><td>1.00099457512782</td><td>1.0009945631027222</td><td>1.20131478299608e-8  </td><td>1.0009945631027222</td><td>1.20131478299608e-8   </td></tr>\n",
       "<tr><td>10    </td><td>500 </td><td>1.00099457512782</td><td>1.0009945631027222</td><td>1.20131478299608e-8  </td><td>1.0009945631027222</td><td>1.20131478299608e-8   </td></tr>\n",
       "<tr><td>10    </td><td>1000</td><td>1.00099457512782</td><td>1.0009945631027222</td><td>1.20131478299608e-8  </td><td>1.0009945631027222</td><td>1.20131478299608e-8   </td></tr>\n",
       "</tbody>\n",
       "</table>"
      ],
      "text/plain": [
       "<IPython.core.display.HTML object>"
      ]
     },
     "metadata": {},
     "output_type": "display_data"
    }
   ],
   "source": [
    "dzeta_table = [ headers ]\n",
    "for x in xs:\n",
    "    for n in ns:\n",
    "        dzeta_table.append(comp(dzeta, dzeta_back, zeta, x, n, np.float32))\n",
    "display(HTML(tabulate.tabulate(dzeta_table, tablefmt='html')))"
   ]
  },
  {
   "cell_type": "code",
   "execution_count": 57,
   "metadata": {},
   "outputs": [],
   "source": [
    "def eta(s, n, f = np.float64):\n",
    "    sum = f(0)\n",
    "    for k in range(1, n+1):\n",
    "        val = f(1)/(f(k)**f(s))\n",
    "        sum += val if k%2 ==1 else -val\n",
    "    return sum\n"
   ]
  },
  {
   "cell_type": "code",
   "execution_count": 58,
   "metadata": {},
   "outputs": [],
   "source": [
    "def eta_back(s, n, f = np.float64):\n",
    "    sum = f(0)\n",
    "    for k in range(n, 0, -1):\n",
    "        val = f(1)/(f(k)**f(s))\n",
    "        sum += val if k%2 ==1 else -val\n",
    "    return sum"
   ]
  },
  {
   "cell_type": "code",
   "execution_count": 59,
   "metadata": {},
   "outputs": [
    {
     "data": {
      "text/html": [
       "<table>\n",
       "<tbody>\n",
       "<tr><td>x     </td><td>n   </td><td>expected value   </td><td>forward result    </td><td>forward relative diff</td><td>backward result   </td><td>backward relative diff</td></tr>\n",
       "<tr><td>2     </td><td>50  </td><td>0.822467033424113</td><td>0.8222710318260295</td><td>0.000238309366963624 </td><td>0.8222710318260289</td><td>0.000238309366964299  </td></tr>\n",
       "<tr><td>2     </td><td>100 </td><td>0.822467033424113</td><td>0.8224175333741286</td><td>6.0184843857544e-5   </td><td>0.8224175333741282</td><td>6.01848438580839e-5   </td></tr>\n",
       "<tr><td>2     </td><td>200 </td><td>0.822467033424113</td><td>0.822454595922551 </td><td>1.51221885580415e-5  </td><td>0.8224545959225509</td><td>1.51221885581765e-5   </td></tr>\n",
       "<tr><td>2     </td><td>500 </td><td>0.822467033424113</td><td>0.8224650374240963</td><td>2.42684501119177e-6  </td><td>0.8224650374240972</td><td>2.42684501011188e-6   </td></tr>\n",
       "<tr><td>2     </td><td>1000</td><td>0.822467033424113</td><td>0.8224665339241114</td><td>6.07319176946638e-7  </td><td>0.8224665339241127</td><td>6.07319175326795e-7   </td></tr>\n",
       "<tr><td>3.6667</td><td>50  </td><td>0.934693343919125</td><td>0.9346930600307106</td><td>3.03723586232682e-7  </td><td>0.934693060030711 </td><td>3.03723585876344e-7   </td></tr>\n",
       "<tr><td>3.6667</td><td>100 </td><td>0.934693343919125</td><td>0.9346933211400662</td><td>2.43706227390868e-8  </td><td>0.934693321140067 </td><td>2.43706219076311e-8   </td></tr>\n",
       "<tr><td>3.6667</td><td>200 </td><td>0.934693343919125</td><td>0.9346933421086845</td><td>1.93693534570691e-9  </td><td>0.9346933421086852</td><td>1.93693463303059e-9   </td></tr>\n",
       "<tr><td>3.6667</td><td>500 </td><td>0.934693343919125</td><td>0.9346933438558745</td><td>6.76698045914325e-11 </td><td>0.934693343855875 </td><td>6.76693294738843e-11  </td></tr>\n",
       "<tr><td>3.6667</td><td>1000</td><td>0.934693343919125</td><td>0.9346933439141353</td><td>5.33842077119472e-12 </td><td>0.9346933439141354</td><td>5.33830199180767e-12  </td></tr>\n",
       "<tr><td>5     </td><td>50  </td><td>0.972119770446909</td><td>0.9721197689267979</td><td>1.56370801967735e-9  </td><td>0.9721197689267976</td><td>1.56370824809015e-9   </td></tr>\n",
       "<tr><td>5     </td><td>100 </td><td>0.972119770446909</td><td>0.9721197703981592</td><td>5.01482600580007e-11 </td><td>0.9721197703981589</td><td>5.01486026772103e-11  </td></tr>\n",
       "<tr><td>5     </td><td>200 </td><td>0.972119770446909</td><td>0.972119770445367 </td><td>1.58655535325675e-12 </td><td>0.9721197704453663</td><td>1.58724059167595e-12  </td></tr>\n",
       "<tr><td>5     </td><td>500 </td><td>0.972119770446909</td><td>0.9721197704468947</td><td>1.50752452224223e-14 </td><td>0.9721197704468933</td><td>1.64457220608244e-14  </td></tr>\n",
       "<tr><td>5     </td><td>1000</td><td>0.972119770446909</td><td>0.9721197704469091</td><td>2.28412806400338e-16 </td><td>0.9721197704469088</td><td>5.71032016000846e-16  </td></tr>\n",
       "<tr><td>7.2   </td><td>50  </td><td>0.99352700066162 </td><td>0.9935270006613486</td><td>2.72994578642862e-13 </td><td>0.9935270006613481</td><td>2.73441561170317e-13  </td></tr>\n",
       "<tr><td>7.2   </td><td>100 </td><td>0.99352700066162 </td><td>0.9935270006616185</td><td>1.34094758236363e-15 </td><td>0.9935270006616179</td><td>1.89967574168181e-15  </td></tr>\n",
       "<tr><td>7.2   </td><td>200 </td><td>0.99352700066162 </td><td>0.9935270006616201</td><td>3.35236895590908e-16 </td><td>0.9935270006616198</td><td>0.0                   </td></tr>\n",
       "<tr><td>7.2   </td><td>500 </td><td>0.99352700066162 </td><td>0.9935270006616201</td><td>3.35236895590908e-16 </td><td>0.9935270006616198</td><td>0.0                   </td></tr>\n",
       "<tr><td>7.2   </td><td>1000</td><td>0.99352700066162 </td><td>0.9935270006616201</td><td>3.35236895590908e-16 </td><td>0.9935270006616198</td><td>0.0                   </td></tr>\n",
       "<tr><td>10    </td><td>50  </td><td>0.999039507598272</td><td>0.9990395075982718</td><td>2.22258082124134e-16 </td><td>0.9990395075982715</td><td>0.0                   </td></tr>\n",
       "<tr><td>10    </td><td>100 </td><td>0.999039507598272</td><td>0.9990395075982718</td><td>2.22258082124134e-16 </td><td>0.9990395075982715</td><td>0.0                   </td></tr>\n",
       "<tr><td>10    </td><td>200 </td><td>0.999039507598272</td><td>0.9990395075982718</td><td>2.22258082124134e-16 </td><td>0.9990395075982715</td><td>0.0                   </td></tr>\n",
       "<tr><td>10    </td><td>500 </td><td>0.999039507598272</td><td>0.9990395075982718</td><td>2.22258082124134e-16 </td><td>0.9990395075982715</td><td>0.0                   </td></tr>\n",
       "<tr><td>10    </td><td>1000</td><td>0.999039507598272</td><td>0.9990395075982718</td><td>2.22258082124134e-16 </td><td>0.9990395075982715</td><td>0.0                   </td></tr>\n",
       "</tbody>\n",
       "</table>"
      ],
      "text/plain": [
       "<IPython.core.display.HTML object>"
      ]
     },
     "metadata": {},
     "output_type": "display_data"
    }
   ],
   "source": [
    "eta_table = [ headers ]\n",
    "for x in xs:\n",
    "    for n in ns:\n",
    "        eta_table.append(comp(eta, eta_back, altzeta, x, n))\n",
    "display(HTML(tabulate.tabulate(eta_table, tablefmt='html')))"
   ]
  },
  {
   "cell_type": "code",
   "execution_count": 60,
   "metadata": {},
   "outputs": [
    {
     "data": {
      "text/html": [
       "<table>\n",
       "<tbody>\n",
       "<tr><td>x     </td><td>n   </td><td>expected value   </td><td>forward result    </td><td>forward relative diff</td><td>backward result   </td><td>backward relative diff</td></tr>\n",
       "<tr><td>2     </td><td>50  </td><td>0.822467033424113</td><td>0.8222709894180298</td><td>0.000238360928908291 </td><td>0.8222710490226746</td><td>0.00023828845835038   </td></tr>\n",
       "<tr><td>2     </td><td>100 </td><td>0.822467033424113</td><td>0.8224174976348877</td><td>6.02282975638297e-5  </td><td>0.8224174976348877</td><td>6.02282975638297e-5   </td></tr>\n",
       "<tr><td>2     </td><td>200 </td><td>0.822467033424113</td><td>0.8224546909332275</td><td>1.50066694275629e-5  </td><td>0.822454571723938 </td><td>1.51516105433842e-5   </td></tr>\n",
       "<tr><td>2     </td><td>500 </td><td>0.822467033424113</td><td>0.8224653601646423</td><td>2.03443956155045e-6  </td><td>0.8224650621414185</td><td>2.39679235110387e-6   </td></tr>\n",
       "<tr><td>2     </td><td>1000</td><td>0.822467033424113</td><td>0.8224668502807617</td><td>2.22675613783347e-7  </td><td>0.8224665522575378</td><td>5.85028403336767e-7   </td></tr>\n",
       "<tr><td>3.6667</td><td>50  </td><td>0.934693343919125</td><td>0.9346930980682373</td><td>2.63028392529392e-7  </td><td>0.9346930384635925</td><td>3.26797590377181e-7   </td></tr>\n",
       "<tr><td>3.6667</td><td>100 </td><td>0.934693343919125</td><td>0.9346932768821716</td><td>7.17207989860233e-8  </td><td>0.9346933364868164</td><td>7.95160113823378e-9   </td></tr>\n",
       "<tr><td>3.6667</td><td>200 </td><td>0.934693343919125</td><td>0.9346932768821716</td><td>7.17207989860233e-8  </td><td>0.9346933364868164</td><td>7.95160113823378e-9   </td></tr>\n",
       "<tr><td>3.6667</td><td>500 </td><td>0.934693343919125</td><td>0.9346932768821716</td><td>7.17207989860233e-8  </td><td>0.9346933364868164</td><td>7.95160113823378e-9   </td></tr>\n",
       "<tr><td>3.6667</td><td>1000</td><td>0.934693343919125</td><td>0.9346932768821716</td><td>7.17207989860233e-8  </td><td>0.9346933364868164</td><td>7.95160113823378e-9   </td></tr>\n",
       "<tr><td>5     </td><td>50  </td><td>0.972119770446909</td><td>0.9721198081970215</td><td>3.88327789383352e-8  </td><td>0.9721197485923767</td><td>2.24813169039793e-8   </td></tr>\n",
       "<tr><td>5     </td><td>100 </td><td>0.972119770446909</td><td>0.9721198081970215</td><td>3.88327789383352e-8  </td><td>0.9721197485923767</td><td>2.24813169039793e-8   </td></tr>\n",
       "<tr><td>5     </td><td>200 </td><td>0.972119770446909</td><td>0.9721198081970215</td><td>3.88327789383352e-8  </td><td>0.9721197485923767</td><td>2.24813169039793e-8   </td></tr>\n",
       "<tr><td>5     </td><td>500 </td><td>0.972119770446909</td><td>0.9721198081970215</td><td>3.88327789383352e-8  </td><td>0.9721197485923767</td><td>2.24813169039793e-8   </td></tr>\n",
       "<tr><td>5     </td><td>1000</td><td>0.972119770446909</td><td>0.9721198081970215</td><td>3.88327789383352e-8  </td><td>0.9721197485923767</td><td>2.24813169039793e-8   </td></tr>\n",
       "<tr><td>7.2   </td><td>50  </td><td>0.99352700066162 </td><td>0.9935270547866821</td><td>5.44776964137851e-8  </td><td>0.9935269951820374</td><td>5.51528287686136e-9   </td></tr>\n",
       "<tr><td>7.2   </td><td>100 </td><td>0.99352700066162 </td><td>0.9935270547866821</td><td>5.44776964137851e-8  </td><td>0.9935269951820374</td><td>5.51528287686136e-9   </td></tr>\n",
       "<tr><td>7.2   </td><td>200 </td><td>0.99352700066162 </td><td>0.9935270547866821</td><td>5.44776964137851e-8  </td><td>0.9935269951820374</td><td>5.51528287686136e-9   </td></tr>\n",
       "<tr><td>7.2   </td><td>500 </td><td>0.99352700066162 </td><td>0.9935270547866821</td><td>5.44776964137851e-8  </td><td>0.9935269951820374</td><td>5.51528287686136e-9   </td></tr>\n",
       "<tr><td>7.2   </td><td>1000</td><td>0.99352700066162 </td><td>0.9935270547866821</td><td>5.44776964137851e-8  </td><td>0.9935269951820374</td><td>5.51528287686136e-9   </td></tr>\n",
       "<tr><td>10    </td><td>50  </td><td>0.999039507598272</td><td>0.9990395307540894</td><td>2.3178080188662e-8   </td><td>0.9990395307540894</td><td>2.3178080188662e-8    </td></tr>\n",
       "<tr><td>10    </td><td>100 </td><td>0.999039507598272</td><td>0.9990395307540894</td><td>2.3178080188662e-8   </td><td>0.9990395307540894</td><td>2.3178080188662e-8    </td></tr>\n",
       "<tr><td>10    </td><td>200 </td><td>0.999039507598272</td><td>0.9990395307540894</td><td>2.3178080188662e-8   </td><td>0.9990395307540894</td><td>2.3178080188662e-8    </td></tr>\n",
       "<tr><td>10    </td><td>500 </td><td>0.999039507598272</td><td>0.9990395307540894</td><td>2.3178080188662e-8   </td><td>0.9990395307540894</td><td>2.3178080188662e-8    </td></tr>\n",
       "<tr><td>10    </td><td>1000</td><td>0.999039507598272</td><td>0.9990395307540894</td><td>2.3178080188662e-8   </td><td>0.9990395307540894</td><td>2.3178080188662e-8    </td></tr>\n",
       "</tbody>\n",
       "</table>"
      ],
      "text/plain": [
       "<IPython.core.display.HTML object>"
      ]
     },
     "metadata": {},
     "output_type": "display_data"
    }
   ],
   "source": [
    "eta_table = [ headers ]\n",
    "for x in xs:\n",
    "    for n in ns:\n",
    "        eta_table.append(comp(eta, eta_back, altzeta, x, n, np.float32))\n",
    "display(HTML(tabulate.tabulate(eta_table, tablefmt='html')))"
   ]
  },
  {
   "cell_type": "markdown",
   "metadata": {},
   "source": [
    "Dla obu funkcji przy podwójnej precyzji otrzymaliśmy mniejszy błąd sumując od tyłu. Wynika to z faktu, że wtedy najpierw dodajemy do siebie wartości mniejsze które powiększając się dają mniejszy błąd niż jak pierwsze sumujemy większe wartości (zmiejsza się różnica między nimi). Można było zaobserwować to przede wszystkim dla większych wartości x, dla których błąd potrafił zejść nawet do 0. Większą różnicę było można zauważyć również dla większej ilości iteracji.\n",
    "Dla pojedynczej precyzji otrzymane wyniki nie różnią się znacząco. Prawdopodobnie małe wartości były, za małe aby wpłynąć na wynik."
   ]
  },
  {
   "cell_type": "markdown",
   "metadata": {},
   "source": [
    "# Zadanie 4"
   ]
  },
  {
   "cell_type": "markdown",
   "metadata": {},
   "source": [
    "## 4.1"
   ]
  },
  {
   "cell_type": "code",
   "execution_count": 2,
   "metadata": {},
   "outputs": [
    {
     "data": {
      "image/png": "[encoded data removed]",
      "text/plain": [
       "<Figure size 432x288 with 1 Axes>"
      ]
     },
     "metadata": {
      "needs_background": "light"
     },
     "output_type": "display_data"
    }
   ],
   "source": [
    "iterations = 1000\n",
    "rs = np.arange(1., 4., 0.005)\n",
    "x0s = [0.11, 0.24, 0.38, 0.54, 0.73, 0.875]\n",
    "\n",
    "def logistic_map(x0, r, iters):\n",
    "    x = x0\n",
    "    for i in range(iters):\n",
    "        x = r*x*(1 - x)\n",
    "    return x\n",
    "\n",
    "for x0 in x0s:\n",
    "    xn = list(map(lambda r: logistic_map(x0, r, iterations), rs))\n",
    "    plt.plot(rs,xn, label = \"Bifurcation diagram\")"
   ]
  },
  {
   "cell_type": "markdown",
   "metadata": {},
   "source": [
    "Funkcja dla różnych wartości zachowuje się chaotycznie. Niewielkie zmiany wartości prowadzą do znaczącej zmieany w wynikach. Algorytm jest niestabilny numerycznie. Dla wartości r > 3 dochodzi do rozdwojeń które prowadzą do otrzymanego wykresu."
   ]
  },
  {
   "cell_type": "markdown",
   "metadata": {},
   "source": [
    "## 4.2"
   ]
  },
  {
   "cell_type": "code",
   "execution_count": 3,
   "metadata": {},
   "outputs": [
    {
     "data": {
      "image/png": "[encoded data removed]",
      "text/plain": [
       "<Figure size 432x288 with 1 Axes>"
      ]
     },
     "metadata": {
      "needs_background": "light"
     },
     "output_type": "display_data"
    }
   ],
   "source": [
    "rs_small = [3.75, 3.768, 3.779, 3.783, 3.792, 3.8]\n",
    "\n",
    "def logistic_map_trajectory(x0, r, iters):\n",
    "    x = []\n",
    "    y = []\n",
    "    xi = x0\n",
    "    for i in range(iters):\n",
    "        x.append(xi)\n",
    "        xi = r*xi*(1 - xi)\n",
    "        y.append(xi)\n",
    "        x.append(xi)\n",
    "        y.append(xi)\n",
    "    return x[-10:], y[-10:]\n",
    "\n",
    "for r in rs_small:\n",
    "    for x0 in x0s:\n",
    "        x, y = logistic_map_trajectory(x0, r, 1000)\n",
    "        plt.plot(x, y, label = \"Trajectories\")"
   ]
  },
  {
   "cell_type": "code",
   "execution_count": 14,
   "metadata": {},
   "outputs": [
    {
     "data": {
      "image/png": "[encoded data removed]",
      "text/plain": [
       "<Figure size 432x288 with 1 Axes>"
      ]
     },
     "metadata": {
      "needs_background": "light"
     },
     "output_type": "display_data"
    }
   ],
   "source": [
    "def logistic_map_trajectory_single(x0, r, iters):\n",
    "    x = []\n",
    "    y = []\n",
    "    xi = np.float32(x0)\n",
    "    r = np.float32(r)\n",
    "    for i in range(iters):\n",
    "        x.append(xi)\n",
    "        xi = r*xi*(1 - xi)\n",
    "        y.append(xi)\n",
    "        x.append(xi)\n",
    "        y.append(xi)\n",
    "    return x[-10:], y[-10:]\n",
    "\n",
    "for r in rs_small:\n",
    "    for x0 in x0s:\n",
    "        x, y = logistic_map_trajectory_single(x0, r, 1000)\n",
    "        plt.plot(x, y, label = \"Trajectories single\")"
   ]
  },
  {
   "cell_type": "markdown",
   "metadata": {},
   "source": [
    "Dla wielu iteracji (1000) otrzymane wyniki dla pojedynczej podwójnej precyzji są zupełnie różne. Wynika to z niestabilności numerycznej algorytmu. W obu przypadkach błędy są bardzo duże i się nawarstwiają co prowadzi do różnych wyników. "
   ]
  },
  {
   "cell_type": "markdown",
   "metadata": {},
   "source": [
    "## 4.3"
   ]
  },
  {
   "cell_type": "code",
   "execution_count": 64,
   "metadata": {},
   "outputs": [],
   "source": [
    "eps = np.float32(1e-6)\n",
    "\n",
    "def iters_to_0(x0,r):\n",
    "    x = np.float32(x0)\n",
    "    r = np.float32(r)\n",
    "    steps = 0\n",
    "    while x > eps:\n",
    "        x = r * x * (1 - x)\n",
    "        steps = steps + 1\n",
    "    return steps"
   ]
  },
  {
   "cell_type": "code",
   "execution_count": 65,
   "metadata": {},
   "outputs": [
    {
     "name": "stdout",
     "output_type": "stream",
     "text": [
      "For x0 = 0.11 iterations to obtain 0: 6950\n",
      "For x0 = 0.24 iterations to obtain 0: 1522\n",
      "For x0 = 0.38 iterations to obtain 0: 3728\n",
      "For x0 = 0.54 iterations to obtain 0: 5777\n",
      "For x0 = 0.73 iterations to obtain 0: 6893\n",
      "For x0 = 0.875 iterations to obtain 0: 3542\n"
     ]
    }
   ],
   "source": [
    "for x0 in x0s:\n",
    "    print(\"For x0 = \" + str(x0) + \" iterations to obtain 0: \" + str(iters_to_0(x0, 4)))"
   ]
  },
  {
   "cell_type": "markdown",
   "metadata": {},
   "source": [
    "Podobnie jak w poprzednich podpunktach wyniki znacząco różnią się od siebie. Również wynika to z niestabilności algorytmu. Przy tak dużych blędach nie można znaleźć reguły opisującej otrzymane rezultaty."
   ]
  }
 ],
 "metadata": {
  "kernelspec": {
   "display_name": ".venv",
   "language": "python",
   "name": ".venv"
  },
  "language_info": {
   "codemirror_mode": {
    "name": "ipython",
    "version": 3
   },
   "file_extension": ".py",
   "mimetype": "text/x-python",
   "name": "python",
   "nbconvert_exporter": "python",
   "pygments_lexer": "ipython3",
   "version": "3.7.0"
  }
 },
 "nbformat": 4,
 "nbformat_minor": 2
}
