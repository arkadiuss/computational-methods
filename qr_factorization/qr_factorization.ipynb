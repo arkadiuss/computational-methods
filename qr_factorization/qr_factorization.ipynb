{
 "cells": [
  {
   "cell_type": "code",
   "execution_count": 71,
   "metadata": {},
   "outputs": [],
   "source": [
    "import numpy as np\n",
    "from scipy import linalg\n",
    "from copy import deepcopy"
   ]
  },
  {
   "cell_type": "markdown",
   "metadata": {},
   "source": [
    "## Zad 1"
   ]
  },
  {
   "cell_type": "code",
   "execution_count": 145,
   "metadata": {},
   "outputs": [],
   "source": [
    "def qr(A):\n",
    "    Q = np.zeros(A.shape)\n",
    "    for i in range(len(A[0])):\n",
    "        ai = A[:,i]\n",
    "        ui = A[:,i]\n",
    "        for j in range(i):\n",
    "            ui -= np.dot(Q[:,j],ai)*Q[:,j]\n",
    "        ui = ui/np.linalg.norm(ui)\n",
    "        Q[:,i] = ui[:]\n",
    "    \n",
    "    R = np.zeros(A.shape)\n",
    "    for i in range(len(A)):\n",
    "        for j in range(i,len(A[0])):\n",
    "            R[i][j] = np.dot(Q[:,i],A[:,j])\n",
    "    return Q, R"
   ]
  },
  {
   "cell_type": "code",
   "execution_count": 146,
   "metadata": {},
   "outputs": [
    {
     "name": "stdout",
     "output_type": "stream",
     "text": [
      "[[ 0.07919006  0.96817727 -0.23740622]\n",
      " [ 0.99260851 -0.09855405 -0.07081983]\n",
      " [ 0.09196349  0.23004321  0.9688255 ]]\n",
      "[[-0.07919006  0.96817727 -0.23740622]\n",
      " [-0.99260851 -0.09855405 -0.07081983]\n",
      " [-0.09196349  0.23004321  0.9688255 ]]\n",
      "[[ 0.07175262  0.89011497 -0.0293653 ]\n",
      " [ 0.89938383 -0.09060782 -0.00875986]\n",
      " [ 0.08332638  0.21149526  0.11983618]] [[ 0.07175262  0.89011497 -0.0293653 ]\n",
      " [ 0.89938383 -0.09060782 -0.00875986]\n",
      " [ 0.08332638  0.21149526  0.11983618]]\n"
     ]
    }
   ],
   "source": [
    "A = np.random.random((3,3))\n",
    "# A = np.array([[0.08223871, 0.85877601, 0.24677757],\n",
    "#  [0.01876868, 0.98501504, 0.22333477],\n",
    "# [0.76955748, 0.16823208, 0.83330313]])\n",
    "\n",
    "print(qr(A)[0])\n",
    "print(np.linalg.qr(A)[0])\n",
    "Q, R = qr(A)\n",
    "print(A, Q@R)"
   ]
  },
  {
   "cell_type": "markdown",
   "metadata": {},
   "source": [
    "## Zad 2"
   ]
  },
  {
   "cell_type": "code",
   "execution_count": 155,
   "metadata": {},
   "outputs": [],
   "source": [
    "def solve(A, b):\n",
    "    Q, R = qr(A)\n",
    "    b = Q.T@b\n",
    "    return np.linalg.solve(R[:len(A[0])], b)"
   ]
  },
  {
   "cell_type": "code",
   "execution_count": 156,
   "metadata": {},
   "outputs": [
    {
     "name": "stdout",
     "output_type": "stream",
     "text": [
      "[ 9.63636364  0.18181818 -0.43356643]\n",
      "(array([ 9.63636364,  0.18181818, -0.43356643]), array([1.62237762]), 3, array([29.29163703, 10.48808848,  3.31662479]))\n"
     ]
    },
    {
     "name": "stderr",
     "output_type": "stream",
     "text": [
      "/home/arkadius/anaconda3/lib/python3.7/site-packages/ipykernel_launcher.py:5: FutureWarning: `rcond` parameter will change to the default of machine precision times ``max(M, N)`` where M and N are the input matrix dimensions.\n",
      "To use the future default and silence this warning we advise to pass `rcond=None`, to keep using the old, explicitly pass `rcond=-1`.\n",
      "  \"\"\"\n"
     ]
    }
   ],
   "source": [
    "xs = np.array([i for i in range(-5, 6)], dtype=np.float64)\n",
    "ys = np.array([2,7,9,12,13,14,14,13,10, 8, 4], dtype=np.float64)\n",
    "A = np.array([[1, x, x*x] for x in xs], dtype=np.float64)\n",
    "print(solve(A, ys))\n",
    "print(np.linalg.lstsq(A, ys))"
   ]
  },
  {
   "cell_type": "markdown",
   "metadata": {},
   "source": [
    "## Zad 1.2"
   ]
  },
  {
   "cell_type": "code",
   "execution_count": 165,
   "metadata": {},
   "outputs": [
    {
     "name": "stdout",
     "output_type": "stream",
     "text": [
      "-4.175352959750549\n"
     ]
    }
   ],
   "source": [
    "def cond(A):\n",
    "    e = np.linalg.eig(A)\n",
    "    return np.real(e[0][0])/np.real(e[0][1])\n",
    "\n",
    "res = []\n",
    "for i in range(80):    \n",
    "    A = np.random.random((3,3))\n",
    "    Q, R = qr(A)\n",
    "    res.append((cond(A), np. "
   ]
  },
  {
   "cell_type": "code",
   "execution_count": null,
   "metadata": {},
   "outputs": [],
   "source": []
  }
 ],
 "metadata": {
  "kernelspec": {
   "display_name": ".venv",
   "language": "python",
   "name": ".venv"
  },
  "language_info": {
   "codemirror_mode": {
    "name": "ipython",
    "version": 3
   },
   "file_extension": ".py",
   "mimetype": "text/x-python",
   "name": "python",
   "nbconvert_exporter": "python",
   "pygments_lexer": "ipython3",
   "version": "3.7.0"
  }
 },
 "nbformat": 4,
 "nbformat_minor": 2
}
