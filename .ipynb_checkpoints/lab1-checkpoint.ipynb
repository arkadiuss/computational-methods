{
 "cells": [
  {
   "cell_type": "code",
   "execution_count": 23,
   "metadata": {
    "collapsed": true
   },
   "outputs": [],
   "source": [
    "import numpy as np\n",
    "import matplotlib.pyplot as plt \n",
    "import time\n",
    "from mpmath import zeta, altzeta\n",
    "from IPython.display import HTML, display\n",
    "import sys\n",
    "import tabulate"
   ]
  },
  {
   "cell_type": "markdown",
   "metadata": {},
   "source": [
    "# Zadanie 1"
   ]
  },
  {
   "cell_type": "markdown",
   "metadata": {},
   "source": [
    "## 1.1"
   ]
  },
  {
   "cell_type": "code",
   "execution_count": 3,
   "metadata": {
    "collapsed": true
   },
   "outputs": [],
   "source": [
    "N = 10**7\n",
    "v = np.float32(0.5231)\n",
    "tab = [v for i in range(N)]\n",
    "exp_val = N * v"
   ]
  },
  {
   "cell_type": "code",
   "execution_count": 4,
   "metadata": {
    "collapsed": true
   },
   "outputs": [
    {
     "data": {
      "text/plain": [
       "(5025255.5, 5231000.185012817)"
      ]
     },
     "execution_count": 4,
     "metadata": {},
     "output_type": "execute_result"
    }
   ],
   "source": [
    "def sum():\n",
    "    sum = np.float32(0)\n",
    "    for i in tab:\n",
    "        sum += i\n",
    "    return sum\n",
    "\n",
    "sum(), exp_val"
   ]
  },
  {
   "cell_type": "markdown",
   "metadata": {},
   "source": [
    "## 1.2"
   ]
  },
  {
   "cell_type": "code",
   "execution_count": 6,
   "metadata": {
    "collapsed": true
   },
   "outputs": [
    {
     "data": {
      "text/plain": [
       "(205744.68501281738, 0.03933180610512887)"
      ]
     },
     "execution_count": 6,
     "metadata": {},
     "output_type": "execute_result"
    }
   ],
   "source": [
    "abs_diff = abs(exp_val - sum())\n",
    "rel_diff = abs_diff/exp_val\n",
    "abs_diff, rel_diff"
   ]
  },
  {
   "cell_type": "markdown",
   "metadata": {},
   "source": [
    "## 1.3"
   ]
  },
  {
   "cell_type": "code",
   "execution_count": 16,
   "metadata": {
    "collapsed": true
   },
   "outputs": [
    {
     "data": {
      "text/plain": [
       "[<matplotlib.lines.Line2D at 0x7f000d30e0f0>]"
      ]
     },
     "execution_count": 16,
     "metadata": {},
     "output_type": "execute_result"
    },
    {
     "data": {
      "image/png": "[encoded data removed]",
      "text/plain": [
       "<Figure size 432x288 with 1 Axes>"
      ]
     },
     "metadata": {
      "needs_background": "light"
     },
     "output_type": "display_data"
    }
   ],
   "source": [
    "def count_rel_diffs():\n",
    "    step = 25000\n",
    "    x = []\n",
    "    y = []\n",
    "    sum = np.float32(0)\n",
    "    for i,v in enumerate(tab):\n",
    "        sum += v\n",
    "        if i%step == 0:\n",
    "            c_exp_val = (i+1)*v\n",
    "            y.append(abs(c_exp_val - sum)/c_exp_val)\n",
    "            x.append(i)\n",
    "    return x, y\n",
    "x, y = count_rel_diffs()\n",
    "plt.plot(x,y, label = \"Relative diff\")"
   ]
  },
  {
   "cell_type": "markdown",
   "metadata": {},
   "source": [
    "## 1.4"
   ]
  },
  {
   "cell_type": "code",
   "execution_count": 8,
   "metadata": {
    "collapsed": true
   },
   "outputs": [
    {
     "data": {
      "text/plain": [
       "(5231000.0, 5231000.185012817)"
      ]
     },
     "execution_count": 8,
     "metadata": {},
     "output_type": "execute_result"
    }
   ],
   "source": [
    "def rec_sum(start, end):\n",
    "    if(end - start <= 1):\n",
    "        return tab[start]\n",
    "    m = int((start + end)/2)\n",
    "    return rec_sum(start, m) + rec_sum(m, end)\n",
    "\n",
    "rec_sum(0, N), exp_val"
   ]
  },
  {
   "cell_type": "markdown",
   "metadata": {},
   "source": [
    "## 1.5"
   ]
  },
  {
   "cell_type": "code",
   "execution_count": 9,
   "metadata": {
    "collapsed": true
   },
   "outputs": [
    {
     "data": {
      "text/plain": [
       "(0.1850128173828125, 3.5368535813263244e-08)"
      ]
     },
     "execution_count": 9,
     "metadata": {},
     "output_type": "execute_result"
    }
   ],
   "source": [
    "rec_abs_diff = abs(exp_val - rec_sum(0, N))\n",
    "rec_rel_diff = rec_abs_diff/exp_val\n",
    "rec_abs_diff, rec_rel_diff"
   ]
  },
  {
   "cell_type": "markdown",
   "metadata": {},
   "source": [
    "## 1.6"
   ]
  },
  {
   "cell_type": "code",
   "execution_count": 120,
   "metadata": {
    "collapsed": true
   },
   "outputs": [
    {
     "name": "stdout",
     "output_type": "stream",
     "text": [
      "Sum took 899 ms\n",
      "Recursive sum took 5865 ms\n"
     ]
    }
   ],
   "source": [
    "def time_in_milis():\n",
    "    return int(time.time()*1000)\n",
    "\n",
    "st_t = time_in_milis()\n",
    "sum()\n",
    "en_t = time_in_milis()\n",
    "print(\"Sum took \" + str(en_t - st_t) + \" ms\")\n",
    "st_t = time_in_milis()\n",
    "rec_sum(0, N)\n",
    "en_t = time_in_milis()\n",
    "print(\"Recursive sum took \" + str(en_t - st_t) + \" ms\")"
   ]
  },
  {
   "cell_type": "markdown",
   "metadata": {},
   "source": [
    "## 1.7"
   ]
  },
  {
   "cell_type": "markdown",
   "metadata": {},
   "source": [
    "# Zadanie 2"
   ]
  },
  {
   "cell_type": "markdown",
   "metadata": {},
   "source": [
    "## 2.1"
   ]
  },
  {
   "cell_type": "code",
   "execution_count": 17,
   "metadata": {
    "collapsed": true
   },
   "outputs": [
    {
     "data": {
      "text/plain": [
       "5231000.0"
      ]
     },
     "execution_count": 17,
     "metadata": {},
     "output_type": "execute_result"
    }
   ],
   "source": [
    "def kahan():\n",
    "    sum = np.float32(0)\n",
    "    err = np.float32(0)\n",
    "    for i in tab:\n",
    "        y = i - err\n",
    "        tmp = sum + y\n",
    "        err = (tmp - sum) - y\n",
    "        sum = tmp\n",
    "    return sum\n",
    "\n",
    "kahan()"
   ]
  },
  {
   "cell_type": "markdown",
   "metadata": {},
   "source": [
    "## 2.2"
   ]
  },
  {
   "cell_type": "code",
   "execution_count": 18,
   "metadata": {
    "collapsed": true
   },
   "outputs": [
    {
     "data": {
      "text/plain": [
       "(0.1850128173828125, 3.5368535813263244e-08)"
      ]
     },
     "execution_count": 18,
     "metadata": {},
     "output_type": "execute_result"
    }
   ],
   "source": [
    "kah_abs_diff = abs(exp_val - kahan())\n",
    "kah_rel_diff = kah_abs_diff/exp_val\n",
    "kah_abs_diff, kah_rel_diff"
   ]
  },
  {
   "cell_type": "markdown",
   "metadata": {},
   "source": [
    "## 2.3"
   ]
  },
  {
   "cell_type": "code",
   "execution_count": 19,
   "metadata": {
    "collapsed": true
   },
   "outputs": [
    {
     "name": "stdout",
     "output_type": "stream",
     "text": [
      "Sum took 860 ms\n",
      "Kahan sum took 3674 ms\n"
     ]
    }
   ],
   "source": [
    "st_t = time_in_milis()\n",
    "sum()\n",
    "en_t = time_in_milis()\n",
    "print(\"Sum took \" + str(en_t - st_t) + \" ms\")\n",
    "st_t = time_in_milis()\n",
    "kahan()\n",
    "en_t = time_in_milis()\n",
    "print(\"Kahan sum took \" + str(en_t - st_t) + \" ms\")"
   ]
  },
  {
   "cell_type": "markdown",
   "metadata": {},
   "source": [
    "# Zadanie 3"
   ]
  },
  {
   "cell_type": "code",
   "execution_count": 29,
   "metadata": {},
   "outputs": [],
   "source": [
    "headers = [\"x\", \"n\", \"expected value\", \"forward result\", \"forward relative diff\", \n",
    "           \"backward result\", \"backward relative diff\"]\n",
    "\n",
    "xs = [2, 3.6667, 5, 7.2, 10]\n",
    "ns = [50, 100, 200, 500, 1000]"
   ]
  },
  {
   "cell_type": "code",
   "execution_count": 30,
   "metadata": {},
   "outputs": [],
   "source": [
    "def comp(fun1, fun2, exp, x, n, f = np.float64):\n",
    "    vf1 = fun1(x, n, f)\n",
    "    vf2 = fun2(x, n, f)\n",
    "    vexp = exp(x)\n",
    "    return [x, n, vexp, vf1, abs(vf1-vexp)/vexp, vf2, abs(vf2-vexp)/vexp]"
   ]
  },
  {
   "cell_type": "code",
   "execution_count": 31,
   "metadata": {},
   "outputs": [],
   "source": [
    "def dzeta(s, n, f = np.float64):\n",
    "    sum = f(0)\n",
    "    for k in range(1,n+1):\n",
    "        sum += f(1)/(f(k)**f(s))\n",
    "    return sum"
   ]
  },
  {
   "cell_type": "code",
   "execution_count": 32,
   "metadata": {},
   "outputs": [],
   "source": [
    "def dzeta_back(s, n, f = np.float64):\n",
    "    sum = f(0)\n",
    "    for k in range(n,0,-1):\n",
    "        sum += f(1)/(f(k)**f(s))\n",
    "    return sum"
   ]
  },
  {
   "cell_type": "code",
   "execution_count": 33,
   "metadata": {},
   "outputs": [
    {
     "data": {
      "text/html": [
       "<table>\n",
       "<tbody>\n",
       "<tr><td>x     </td><td>n   </td><td>expected value  </td><td>forward result    </td><td>forward relative diff</td><td>backward result   </td><td>backward relative diff</td></tr>\n",
       "<tr><td>2     </td><td>50  </td><td>1.64493406684823</td><td>1.625132733621529 </td><td>0.0120377671213519   </td><td>1.6251327336215293</td><td>0.0120377671213518    </td></tr>\n",
       "<tr><td>2     </td><td>100 </td><td>1.64493406684823</td><td>1.6349839001848923</td><td>0.00604897598260528  </td><td>1.634983900184893 </td><td>0.00604897598260487   </td></tr>\n",
       "<tr><td>2     </td><td>200 </td><td>1.64493406684823</td><td>1.6399465460149971</td><td>0.00303204908558166  </td><td>1.6399465460149973</td><td>0.00303204908558153   </td></tr>\n",
       "<tr><td>2     </td><td>500 </td><td>1.64493406684823</td><td>1.642936065514894 </td><td>0.00121463916007331  </td><td>1.6429360655148941</td><td>0.00121463916007317   </td></tr>\n",
       "<tr><td>2     </td><td>1000</td><td>1.64493406684823</td><td>1.6439345666815615</td><td>0.000607623239623237 </td><td>1.6439345666815597</td><td>0.000607623239624317  </td></tr>\n",
       "<tr><td>3.6667</td><td>50  </td><td>1.10941051458645</td><td>1.1093997551541945</td><td>9.69833268880896e-6  </td><td>1.1093997551541943</td><td>9.69833268900911e-6   </td></tr>\n",
       "<tr><td>3.6667</td><td>100 </td><td>1.10941051458645</td><td>1.1094087973421474</td><td>1.54788897663159e-6  </td><td>1.1094087973421476</td><td>1.54788897643144e-6   </td></tr>\n",
       "<tr><td>3.6667</td><td>200 </td><td>1.10941051458645</td><td>1.1094102423332313</td><td>2.45403499073838e-7  </td><td>1.109410242333231 </td><td>2.45403499273985e-7   </td></tr>\n",
       "<tr><td>3.6667</td><td>500 </td><td>1.10941051458645</td><td>1.1094104908440712</td><td>2.14008989190728e-8  </td><td>1.1094104908440725</td><td>2.14008977181939e-8   </td></tr>\n",
       "<tr><td>3.6667</td><td>1000</td><td>1.10941051458645</td><td>1.1094105108423578</td><td>3.37485146473295e-9  </td><td>1.1094105108423593</td><td>3.37485006370762e-9   </td></tr>\n",
       "<tr><td>5     </td><td>50  </td><td>1.03692775514337</td><td>1.036927716716712 </td><td>3.70581825851756e-8  </td><td>1.0369277167167108</td><td>3.70581836558606e-8   </td></tr>\n",
       "<tr><td>5     </td><td>100 </td><td>1.03692775514337</td><td>1.0369277526929555</td><td>2.36314875919962e-9  </td><td>1.0369277526929532</td><td>2.36315090056968e-9   </td></tr>\n",
       "<tr><td>5     </td><td>200 </td><td>1.03692775514337</td><td>1.0369277549886775</td><td>1.49183470381259e-10 </td><td>1.036927754988676 </td><td>1.49184969340301e-10  </td></tr>\n",
       "<tr><td>5     </td><td>500 </td><td>1.03692775514337</td><td>1.0369277551393863</td><td>3.84183202465169e-12 </td><td>1.0369277551393858</td><td>3.84226029866369e-12  </td></tr>\n",
       "<tr><td>5     </td><td>1000</td><td>1.03692775514337</td><td>1.0369277551431222</td><td>2.38976898696354e-13 </td><td>1.0369277551431204</td><td>2.40689994744357e-13  </td></tr>\n",
       "<tr><td>7.2   </td><td>50  </td><td>1.00722766648072</td><td>1.0072276664762816</td><td>4.40373430515507e-12 </td><td>1.0072276664762823</td><td>4.40307295138477e-12  </td></tr>\n",
       "<tr><td>7.2   </td><td>100 </td><td>1.00722766648072</td><td>1.007227666480654 </td><td>6.26081569215078e-14 </td><td>1.007227666480655 </td><td>6.17263518944443e-14  </td></tr>\n",
       "<tr><td>7.2   </td><td>200 </td><td>1.00722766648072</td><td>1.0072276664807145</td><td>2.64541508119047e-15 </td><td>1.0072276664807163</td><td>8.81805027063491e-16  </td></tr>\n",
       "<tr><td>7.2   </td><td>500 </td><td>1.00722766648072</td><td>1.0072276664807145</td><td>2.64541508119047e-15 </td><td>1.0072276664807172</td><td>0.0                   </td></tr>\n",
       "<tr><td>7.2   </td><td>1000</td><td>1.00722766648072</td><td>1.0072276664807145</td><td>2.64541508119047e-15 </td><td>1.0072276664807172</td><td>0.0                   </td></tr>\n",
       "<tr><td>10    </td><td>50  </td><td>1.00099457512782</td><td>1.0009945751278182</td><td>2.21823984307486e-16 </td><td>1.000994575127818 </td><td>0.0                   </td></tr>\n",
       "<tr><td>10    </td><td>100 </td><td>1.00099457512782</td><td>1.0009945751278182</td><td>2.21823984307486e-16 </td><td>1.000994575127818 </td><td>0.0                   </td></tr>\n",
       "<tr><td>10    </td><td>200 </td><td>1.00099457512782</td><td>1.0009945751278182</td><td>2.21823984307486e-16 </td><td>1.000994575127818 </td><td>0.0                   </td></tr>\n",
       "<tr><td>10    </td><td>500 </td><td>1.00099457512782</td><td>1.0009945751278182</td><td>2.21823984307486e-16 </td><td>1.000994575127818 </td><td>0.0                   </td></tr>\n",
       "<tr><td>10    </td><td>1000</td><td>1.00099457512782</td><td>1.0009945751278182</td><td>2.21823984307486e-16 </td><td>1.000994575127818 </td><td>0.0                   </td></tr>\n",
       "</tbody>\n",
       "</table>"
      ],
      "text/plain": [
       "<IPython.core.display.HTML object>"
      ]
     },
     "metadata": {},
     "output_type": "display_data"
    }
   ],
   "source": [
    "dzeta_table = [ headers ]\n",
    "for x in xs:\n",
    "    for n in ns:\n",
    "        dzeta_table.append(comp(dzeta, dzeta_back, zeta, x, n))\n",
    "display(HTML(tabulate.tabulate(dzeta_table, tablefmt='html')))"
   ]
  },
  {
   "cell_type": "code",
   "execution_count": null,
   "metadata": {},
   "outputs": [],
   "source": [
    "dzeta_table = [ headers ]\n",
    "for x in xs:\n",
    "    for n in ns:\n",
    "        dzeta_table.append(comp(dzeta, dzeta_back, zeta, x, n, np.float32))\n",
    "display(HTML(tabulate.tabulate(dzeta_table, tablefmt='html')))"
   ]
  },
  {
   "cell_type": "code",
   "execution_count": 18,
   "metadata": {
    "collapsed": true
   },
   "outputs": [],
   "source": [
    "def eta(s, n, f = np.float64):\n",
    "    sum = f(0)\n",
    "    for k in range(1, n+1):\n",
    "        val = f(1)/(f(k)**f(s))\n",
    "        sum += val if k%2 ==1 else -val\n",
    "    return sum\n"
   ]
  },
  {
   "cell_type": "code",
   "execution_count": 19,
   "metadata": {
    "collapsed": true
   },
   "outputs": [],
   "source": [
    "def eta_back(s, n, f = np.float64):\n",
    "    sum = f(0)\n",
    "    for k in range(n, 0, -1):\n",
    "        val = f(1)/(f(k)**f(s))\n",
    "        sum += val if k%2 ==1 else -val\n",
    "    return sum"
   ]
  },
  {
   "cell_type": "code",
   "execution_count": 27,
   "metadata": {},
   "outputs": [
    {
     "data": {
      "text/html": [
       "<table>\n",
       "<tbody>\n",
       "<tr><td>x     </td><td>n   </td><td>expected value   </td><td>forward result    </td><td>forward relative diff</td><td>backward result   </td><td>backward relative diff</td></tr>\n",
       "<tr><td>2     </td><td>50  </td><td>0.822467033424113</td><td>0.8222710318260295</td><td>0.000238309366963624 </td><td>0.8222710318260289</td><td>0.000238309366964299  </td></tr>\n",
       "<tr><td>2     </td><td>100 </td><td>0.822467033424113</td><td>0.8224175333741286</td><td>6.0184843857544e-5   </td><td>0.8224175333741282</td><td>6.01848438580839e-5   </td></tr>\n",
       "<tr><td>2     </td><td>200 </td><td>0.822467033424113</td><td>0.822454595922551 </td><td>1.51221885580415e-5  </td><td>0.8224545959225509</td><td>1.51221885581765e-5   </td></tr>\n",
       "<tr><td>2     </td><td>500 </td><td>0.822467033424113</td><td>0.8224650374240963</td><td>2.42684501119177e-6  </td><td>0.8224650374240972</td><td>2.42684501011188e-6   </td></tr>\n",
       "<tr><td>2     </td><td>1000</td><td>0.822467033424113</td><td>0.8224665339241114</td><td>6.07319176946638e-7  </td><td>0.8224665339241127</td><td>6.07319175326795e-7   </td></tr>\n",
       "<tr><td>3.6667</td><td>50  </td><td>0.934693343919125</td><td>0.9346930600307106</td><td>3.03723586232682e-7  </td><td>0.934693060030711 </td><td>3.03723585876344e-7   </td></tr>\n",
       "<tr><td>3.6667</td><td>100 </td><td>0.934693343919125</td><td>0.9346933211400662</td><td>2.43706227390868e-8  </td><td>0.934693321140067 </td><td>2.43706219076311e-8   </td></tr>\n",
       "<tr><td>3.6667</td><td>200 </td><td>0.934693343919125</td><td>0.9346933421086845</td><td>1.93693534570691e-9  </td><td>0.9346933421086852</td><td>1.93693463303059e-9   </td></tr>\n",
       "<tr><td>3.6667</td><td>500 </td><td>0.934693343919125</td><td>0.9346933438558745</td><td>6.76698045914325e-11 </td><td>0.934693343855875 </td><td>6.76693294738843e-11  </td></tr>\n",
       "<tr><td>3.6667</td><td>1000</td><td>0.934693343919125</td><td>0.9346933439141353</td><td>5.33842077119472e-12 </td><td>0.9346933439141354</td><td>5.33830199180767e-12  </td></tr>\n",
       "<tr><td>5     </td><td>50  </td><td>0.972119770446909</td><td>0.9721197689267979</td><td>1.56370801967735e-9  </td><td>0.9721197689267976</td><td>1.56370824809015e-9   </td></tr>\n",
       "<tr><td>5     </td><td>100 </td><td>0.972119770446909</td><td>0.9721197703981592</td><td>5.01482600580007e-11 </td><td>0.9721197703981589</td><td>5.01486026772103e-11  </td></tr>\n",
       "<tr><td>5     </td><td>200 </td><td>0.972119770446909</td><td>0.972119770445367 </td><td>1.58655535325675e-12 </td><td>0.9721197704453663</td><td>1.58724059167595e-12  </td></tr>\n",
       "<tr><td>5     </td><td>500 </td><td>0.972119770446909</td><td>0.9721197704468947</td><td>1.50752452224223e-14 </td><td>0.9721197704468933</td><td>1.64457220608244e-14  </td></tr>\n",
       "<tr><td>5     </td><td>1000</td><td>0.972119770446909</td><td>0.9721197704469091</td><td>2.28412806400338e-16 </td><td>0.9721197704469088</td><td>5.71032016000846e-16  </td></tr>\n",
       "<tr><td>7.2   </td><td>50  </td><td>0.99352700066162 </td><td>0.9935270006613486</td><td>2.72994578642862e-13 </td><td>0.9935270006613481</td><td>2.73441561170317e-13  </td></tr>\n",
       "<tr><td>7.2   </td><td>100 </td><td>0.99352700066162 </td><td>0.9935270006616185</td><td>1.34094758236363e-15 </td><td>0.9935270006616179</td><td>1.89967574168181e-15  </td></tr>\n",
       "<tr><td>7.2   </td><td>200 </td><td>0.99352700066162 </td><td>0.9935270006616201</td><td>3.35236895590908e-16 </td><td>0.9935270006616198</td><td>0.0                   </td></tr>\n",
       "<tr><td>7.2   </td><td>500 </td><td>0.99352700066162 </td><td>0.9935270006616201</td><td>3.35236895590908e-16 </td><td>0.9935270006616198</td><td>0.0                   </td></tr>\n",
       "<tr><td>7.2   </td><td>1000</td><td>0.99352700066162 </td><td>0.9935270006616201</td><td>3.35236895590908e-16 </td><td>0.9935270006616198</td><td>0.0                   </td></tr>\n",
       "<tr><td>10    </td><td>50  </td><td>0.999039507598272</td><td>0.9990395075982718</td><td>2.22258082124134e-16 </td><td>0.9990395075982715</td><td>0.0                   </td></tr>\n",
       "<tr><td>10    </td><td>100 </td><td>0.999039507598272</td><td>0.9990395075982718</td><td>2.22258082124134e-16 </td><td>0.9990395075982715</td><td>0.0                   </td></tr>\n",
       "<tr><td>10    </td><td>200 </td><td>0.999039507598272</td><td>0.9990395075982718</td><td>2.22258082124134e-16 </td><td>0.9990395075982715</td><td>0.0                   </td></tr>\n",
       "<tr><td>10    </td><td>500 </td><td>0.999039507598272</td><td>0.9990395075982718</td><td>2.22258082124134e-16 </td><td>0.9990395075982715</td><td>0.0                   </td></tr>\n",
       "<tr><td>10    </td><td>1000</td><td>0.999039507598272</td><td>0.9990395075982718</td><td>2.22258082124134e-16 </td><td>0.9990395075982715</td><td>0.0                   </td></tr>\n",
       "</tbody>\n",
       "</table>"
      ],
      "text/plain": [
       "<IPython.core.display.HTML object>"
      ]
     },
     "metadata": {},
     "output_type": "display_data"
    }
   ],
   "source": [
    "eta_table = [ headers ]\n",
    "for x in xs:\n",
    "    for n in ns:\n",
    "        eta_table.append(comp(eta, eta_back, altzeta, x, n))\n",
    "display(HTML(tabulate.tabulate(eta_table, tablefmt='html')))"
   ]
  },
  {
   "cell_type": "code",
   "execution_count": 28,
   "metadata": {},
   "outputs": [
    {
     "ename": "TypeError",
     "evalue": "comp() takes 5 positional arguments but 6 were given",
     "output_type": "error",
     "traceback": [
      "\u001b[0;31m---------------------------------------------------------------------------\u001b[0m",
      "\u001b[0;31mTypeError\u001b[0m                                 Traceback (most recent call last)",
      "\u001b[0;32m<ipython-input-28-f7ba54c028c2>\u001b[0m in \u001b[0;36m<module>\u001b[0;34m()\u001b[0m\n\u001b[1;32m      2\u001b[0m \u001b[0;32mfor\u001b[0m \u001b[0mx\u001b[0m \u001b[0;32min\u001b[0m \u001b[0mxs\u001b[0m\u001b[0;34m:\u001b[0m\u001b[0;34m\u001b[0m\u001b[0m\n\u001b[1;32m      3\u001b[0m     \u001b[0;32mfor\u001b[0m \u001b[0mn\u001b[0m \u001b[0;32min\u001b[0m \u001b[0mns\u001b[0m\u001b[0;34m:\u001b[0m\u001b[0;34m\u001b[0m\u001b[0m\n\u001b[0;32m----> 4\u001b[0;31m         \u001b[0meta_table\u001b[0m\u001b[0;34m.\u001b[0m\u001b[0mappend\u001b[0m\u001b[0;34m(\u001b[0m\u001b[0mcomp\u001b[0m\u001b[0;34m(\u001b[0m\u001b[0meta\u001b[0m\u001b[0;34m,\u001b[0m \u001b[0meta_back\u001b[0m\u001b[0;34m,\u001b[0m \u001b[0maltzeta\u001b[0m\u001b[0;34m,\u001b[0m \u001b[0mx\u001b[0m\u001b[0;34m,\u001b[0m \u001b[0mn\u001b[0m\u001b[0;34m,\u001b[0m \u001b[0mnp\u001b[0m\u001b[0;34m.\u001b[0m\u001b[0mfloat32\u001b[0m\u001b[0;34m)\u001b[0m\u001b[0;34m)\u001b[0m\u001b[0;34m\u001b[0m\u001b[0m\n\u001b[0m\u001b[1;32m      5\u001b[0m \u001b[0mdisplay\u001b[0m\u001b[0;34m(\u001b[0m\u001b[0mHTML\u001b[0m\u001b[0;34m(\u001b[0m\u001b[0mtabulate\u001b[0m\u001b[0;34m.\u001b[0m\u001b[0mtabulate\u001b[0m\u001b[0;34m(\u001b[0m\u001b[0meta_table\u001b[0m\u001b[0;34m,\u001b[0m \u001b[0mtablefmt\u001b[0m\u001b[0;34m=\u001b[0m\u001b[0;34m'html'\u001b[0m\u001b[0;34m)\u001b[0m\u001b[0;34m)\u001b[0m\u001b[0;34m)\u001b[0m\u001b[0;34m\u001b[0m\u001b[0m\n",
      "\u001b[0;31mTypeError\u001b[0m: comp() takes 5 positional arguments but 6 were given"
     ]
    }
   ],
   "source": [
    "eta_table = [ headers ]\n",
    "for x in xs:\n",
    "    for n in ns:\n",
    "        eta_table.append(comp(eta, eta_back, altzeta, x, n, np.float32))\n",
    "display(HTML(tabulate.tabulate(eta_table, tablefmt='html')))"
   ]
  },
  {
   "cell_type": "markdown",
   "metadata": {},
   "source": [
    "# Zadanie 4"
   ]
  },
  {
   "cell_type": "markdown",
   "metadata": {},
   "source": [
    "## 4.1"
   ]
  },
  {
   "cell_type": "code",
   "execution_count": 75,
   "metadata": {
    "collapsed": true
   },
   "outputs": [
    {
     "data": {
      "image/png": "[encoded data removed]",
      "text/plain": [
       "<Figure size 432x288 with 1 Axes>"
      ]
     },
     "metadata": {
      "needs_background": "light"
     },
     "output_type": "display_data"
    }
   ],
   "source": [
    "iterations = 1000\n",
    "rs = np.arange(1., 4., 0.005)\n",
    "x0s = [0.11, 0.24, 0.38, 0.54, 0.73, 0.875]\n",
    "\n",
    "def logistic_map(x0, r, iters):\n",
    "    x = x0\n",
    "    for i in range(iters):\n",
    "        x = r*x*(1 - x)\n",
    "    return x\n",
    "\n",
    "for x0 in x0s:\n",
    "    xn = list(map(lambda r: logistic_map(x0, r, iterations), rs))\n",
    "    plt.plot(rs,xn, label = \"Bifurcation diagram\")"
   ]
  },
  {
   "cell_type": "markdown",
   "metadata": {},
   "source": [
    "## 4.2"
   ]
  },
  {
   "cell_type": "code",
   "execution_count": 112,
   "metadata": {
    "collapsed": true
   },
   "outputs": [
    {
     "data": {
      "image/png": "[encoded data removed]",
      "text/plain": [
       "<Figure size 432x288 with 1 Axes>"
      ]
     },
     "metadata": {
      "needs_background": "light"
     },
     "output_type": "display_data"
    }
   ],
   "source": [
    "rs_small = [3.75, 3.768, 3.779, 3.783, 3.792, 3.8]\n",
    "\n",
    "def logistic_map_trajectory(x0, r, iters):\n",
    "    x = []\n",
    "    y = []\n",
    "    xi = x0\n",
    "    for i in range(iters):\n",
    "        x.append(xi)\n",
    "        xi = r*xi*(1 - xi)\n",
    "        y.append(xi)\n",
    "        x.append(xi)\n",
    "        y.append(xi)\n",
    "    return x, y\n",
    "\n",
    "for r in rs_small:\n",
    "    for x0 in x0s:\n",
    "        x, y = logistic_map_trajectory(x0, r, 10)\n",
    "        plt.plot(x, y, label = \"Trajectories\")"
   ]
  },
  {
   "cell_type": "code",
   "execution_count": 114,
   "metadata": {
    "collapsed": true
   },
   "outputs": [
    {
     "data": {
      "image/png": "[encoded data removed]",
      "text/plain": [
       "<Figure size 432x288 with 1 Axes>"
      ]
     },
     "metadata": {
      "needs_background": "light"
     },
     "output_type": "display_data"
    }
   ],
   "source": [
    "def logistic_map_trajectory_single(x0, r, iters):\n",
    "    x = []\n",
    "    y = []\n",
    "    xi = np.float32(x0)\n",
    "    r = np.float32(r)\n",
    "    for i in range(iters):\n",
    "        x.append(xi)\n",
    "        xi = r*xi*(1 - xi)\n",
    "        y.append(xi)\n",
    "        x.append(xi)\n",
    "        y.append(xi)\n",
    "    return x, y\n",
    "\n",
    "for r in rs_small:\n",
    "    for x0 in x0s:\n",
    "        x, y = logistic_map_trajectory_single(x0, r, 10)\n",
    "        plt.plot(x, y, label = \"Trajectories single\")"
   ]
  },
  {
   "cell_type": "markdown",
   "metadata": {},
   "source": [
    "## 4.3"
   ]
  },
  {
   "cell_type": "code",
   "execution_count": 115,
   "metadata": {
    "collapsed": true
   },
   "outputs": [],
   "source": [
    "eps = np.float32(1e-6)\n",
    "\n",
    "def iters_to_0(x0,r):\n",
    "    x = np.float32(x0)\n",
    "    r = np.float32(r)\n",
    "    steps = 0\n",
    "    while x > eps:\n",
    "        x = r * x * (1 - x)\n",
    "        steps = steps + 1\n",
    "    return steps"
   ]
  },
  {
   "cell_type": "code",
   "execution_count": 119,
   "metadata": {
    "collapsed": true
   },
   "outputs": [
    {
     "name": "stdout",
     "output_type": "stream",
     "text": [
      "For x0 = 0.11 iterations to obtain 0: 6950\n",
      "For x0 = 0.24 iterations to obtain 0: 1522\n",
      "For x0 = 0.38 iterations to obtain 0: 3728\n",
      "For x0 = 0.54 iterations to obtain 0: 5777\n",
      "For x0 = 0.73 iterations to obtain 0: 6893\n",
      "For x0 = 0.875 iterations to obtain 0: 3542\n"
     ]
    }
   ],
   "source": [
    "for x0 in x0s:\n",
    "    print(\"For x0 = \" + str(x0) + \" iterations to obtain 0: \" + str(iters_to_0(x0, 4)))"
   ]
  },
  {
   "cell_type": "code",
   "execution_count": null,
   "metadata": {
    "collapsed": true
   },
   "outputs": [],
   "source": []
  }
 ],
 "metadata": {
  "kernelspec": {
   "display_name": ".venv",
   "language": "python",
   "name": ".venv"
  },
  "language_info": {
   "codemirror_mode": {
    "name": "ipython",
    "version": 3
   },
   "file_extension": ".py",
   "mimetype": "text/x-python",
   "name": "python",
   "nbconvert_exporter": "python",
   "pygments_lexer": "ipython3",
   "version": "3.7.0"
  }
 },
 "nbformat": 4,
 "nbformat_minor": 2
}
