{
 "cells": [
  {
   "cell_type": "code",
   "execution_count": 80,
   "metadata": {},
   "outputs": [],
   "source": [
    "import numpy as np\n",
    "import matplotlib.pyplot as plt "
   ]
  },
  {
   "cell_type": "code",
   "execution_count": 81,
   "metadata": {},
   "outputs": [
    {
     "name": "stdout",
     "output_type": "stream",
     "text": [
      "[[ 1.00000000e+00  0.00000000e+00  0.00000000e+00  0.00000000e+00\n",
      "   0.00000000e+00]\n",
      " [ 0.00000000e+00  1.00000000e+00  0.00000000e+00  0.00000000e+00\n",
      "   0.00000000e+00]\n",
      " [ 0.00000000e+00  0.00000000e+00  1.00000000e+00  2.77555756e-17\n",
      "   0.00000000e+00]\n",
      " [ 0.00000000e+00  0.00000000e+00  0.00000000e+00  1.00000000e+00\n",
      "   0.00000000e+00]\n",
      " [ 0.00000000e+00  0.00000000e+00 -5.55111512e-17  0.00000000e+00\n",
      "   1.00000000e+00]]\n",
      "[ 0.10344752  0.30151002 -0.70117536  0.02745554 -2.01585922]\n"
     ]
    }
   ],
   "source": [
    "def gauss_jordan(A, B):\n",
    "    for i in range(len(A[0])):\n",
    "        #partial pivoting\n",
    "        besti = i\n",
    "        for j in range(i+1,len(A)):\n",
    "            if A[i][i] < A[j][i]:\n",
    "                besti = j\n",
    "        for k in range(len(A[0])):\n",
    "            A[i][k], A[besti][k] = A[besti][k], A[i][k]\n",
    "        #counting\n",
    "        for j in range(len(A)):\n",
    "            if j != i: \n",
    "                d = -A[j][i]/A[i][i]\n",
    "                for k in range(i, len(A[i])):\n",
    "                    A[j][k] += d*A[i][k]\n",
    "                B[j] += d*B[i]\n",
    "        for k in range(i,len(A[0])):\n",
    "            A[i][k] /= A[i][i]\n",
    "\n",
    "A = np.random.rand(5,5)\n",
    "B = np.random.rand(5)\n",
    "gauss_jordan(A, B)\n",
    "print(A);\n",
    "print(B);"
   ]
  },
  {
   "cell_type": "code",
   "execution_count": 82,
   "metadata": {},
   "outputs": [],
   "source": [
    "def LU(A):\n",
    "    for i in range(len(A[0])):\n",
    "        #counting\n",
    "        for j in range(i+1, len(A)):\n",
    "            d = -A[j][i]/A[i][i]\n",
    "            for k in range(i, len(A[i])):\n",
    "                A[j][k] += d*A[i][k]\n",
    "            A[j][i] = -d;\n",
    "    L = np.zeros((len(A), len(A)))\n",
    "    U = np.zeros((len(A), len(A)))\n",
    "    for i in range(len(A[0])):\n",
    "        for j in range(len(A)):\n",
    "            if i==j:\n",
    "                L[i][j] = 1\n",
    "                U[i][j] = A[i][j]\n",
    "            elif i < j:\n",
    "                L[i][j] = 0\n",
    "                U[i][j] = A[i][j]\n",
    "            else:\n",
    "                L[i][j] = A[i][j]\n",
    "                U[i][j] = 0\n",
    "    return L, U\n",
    "                "
   ]
  },
  {
   "cell_type": "code",
   "execution_count": 84,
   "metadata": {},
   "outputs": [
    {
     "name": "stdout",
     "output_type": "stream",
     "text": [
      "[[0.32500587 0.17920482 0.71644379 0.97529472 0.58824043]\n",
      " [0.8701252  0.82848344 0.98579279 0.68777707 0.44659057]\n",
      " [0.5921283  0.63591649 0.13650044 0.26932602 0.32860939]\n",
      " [0.50186624 0.4492092  0.1532319  0.53225237 0.04013255]\n",
      " [0.1315458  0.32638895 0.90828578 0.14018336 0.77963688]]\n",
      "[[ 1.          0.          0.          0.          0.        ]\n",
      " [ 2.67725998  1.          0.          0.          0.        ]\n",
      " [ 1.82190036  0.88734799  1.          0.          0.        ]\n",
      " [ 1.54417595  0.49464493  1.44045673  1.          0.        ]\n",
      " [ 0.404749    0.72799523 -3.79800017 -6.15059466  1.        ]]\n",
      "[[ 0.32500587  0.17920482  0.71644379  0.97529472  0.58824043]\n",
      " [ 0.          0.34870556 -0.9323135  -1.92334044 -1.12828198]\n",
      " [ 0.          0.         -0.34150226  0.19910848  0.25807269]\n",
      " [ 0.          0.          0.         -0.30921083 -0.68185775]\n",
      " [ 0.          0.          0.          0.         -1.8507395 ]]\n",
      "[[0.32500587 0.17920482 0.71644379 0.97529472 0.58824043]\n",
      " [0.8701252  0.82848344 0.98579279 0.68777707 0.44659057]\n",
      " [0.5921283  0.63591649 0.13650044 0.26932602 0.32860939]\n",
      " [0.50186624 0.4492092  0.1532319  0.53225237 0.04013255]\n",
      " [0.1315458  0.32638895 0.90828578 0.14018336 0.77963688]]\n"
     ]
    }
   ],
   "source": [
    "A = np.random.rand(5,5)\n",
    "print(A)\n",
    "L, U = LU(A)\n",
    "print(L)\n",
    "print(U)\n",
    "print(L @ U)"
   ]
  },
  {
   "cell_type": "code",
   "execution_count": null,
   "metadata": {},
   "outputs": [],
   "source": []
  }
 ],
 "metadata": {
  "kernelspec": {
   "display_name": ".venv",
   "language": "python",
   "name": ".venv"
  },
  "language_info": {
   "codemirror_mode": {
    "name": "ipython",
    "version": 3
   },
   "file_extension": ".py",
   "mimetype": "text/x-python",
   "name": "python",
   "nbconvert_exporter": "python",
   "pygments_lexer": "ipython3",
   "version": "3.7.0"
  }
 },
 "nbformat": 4,
 "nbformat_minor": 2
}
