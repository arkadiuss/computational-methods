{
 "cells": [
  {
   "cell_type": "code",
   "execution_count": 217,
   "metadata": {},
   "outputs": [],
   "source": [
    "import numpy as np\n",
    "import matplotlib.pyplot as plt \n",
    "from copy import deepcopy, copy\n",
    "import csv\n",
    "import networkx as nx"
   ]
  },
  {
   "cell_type": "markdown",
   "metadata": {},
   "source": [
    "# Zadanie 1 - Gauss-Jordan"
   ]
  },
  {
   "cell_type": "code",
   "execution_count": 218,
   "metadata": {},
   "outputs": [],
   "source": [
    "# it destroys A matrix making it identity matrix\n",
    "# result after invoking the function is in array B\n",
    "# pivoting function returns numbers of swapped columns if there was a change\n",
    "def gauss_jordan(A, B, pivoting):\n",
    "    perm = [i for i in range(len(A))]\n",
    "    for i in range(len(A[0])):\n",
    "        c1, c2 = pivoting(A, B, i)\n",
    "        perm[c1], perm[c2] = perm[c2], perm[c1]\n",
    "        # counting\n",
    "        for j in range(len(A)):\n",
    "            if j != i: \n",
    "                d = -A[j][i]/A[i][i]\n",
    "                for k in range(i, len(A[i])):\n",
    "                    A[j][k] += d*A[i][k]\n",
    "                B[j] += d*B[i]\n",
    "        d = A[i][i]\n",
    "        for k in range(i, len(A[0])):\n",
    "            A[i][k] /= d\n",
    "        B[i] /= d\n",
    "    #restore order\n",
    "    res = [0 for i in range(len(perm))]\n",
    "    for i in range(len(perm)):\n",
    "        res[perm[i]] = B[i]\n",
    "    B[:] = res[:]"
   ]
  },
  {
   "cell_type": "code",
   "execution_count": 219,
   "metadata": {},
   "outputs": [],
   "source": [
    "A = np.random.rand(10,10)\n",
    "B = np.random.rand(10)"
   ]
  },
  {
   "cell_type": "markdown",
   "metadata": {},
   "source": [
    "## Bez pivotingu"
   ]
  },
  {
   "cell_type": "code",
   "execution_count": 220,
   "metadata": {},
   "outputs": [],
   "source": [
    "def no_pivoting(A, B, i):\n",
    "    return i,i"
   ]
  },
  {
   "cell_type": "code",
   "execution_count": 221,
   "metadata": {},
   "outputs": [
    {
     "name": "stdout",
     "output_type": "stream",
     "text": [
      "[[ 1.00000000e+00  0.00000000e+00  0.00000000e+00  0.00000000e+00\n",
      "   0.00000000e+00  0.00000000e+00  0.00000000e+00  0.00000000e+00\n",
      "   0.00000000e+00  0.00000000e+00]\n",
      " [ 0.00000000e+00  1.00000000e+00  0.00000000e+00  0.00000000e+00\n",
      "   0.00000000e+00  0.00000000e+00  0.00000000e+00  0.00000000e+00\n",
      "   0.00000000e+00  0.00000000e+00]\n",
      " [-1.11022302e-16  0.00000000e+00  1.00000000e+00  0.00000000e+00\n",
      "   0.00000000e+00  0.00000000e+00  0.00000000e+00  0.00000000e+00\n",
      "   0.00000000e+00  0.00000000e+00]\n",
      " [-3.46944695e-18  0.00000000e+00 -2.22044605e-16  1.00000000e+00\n",
      "   0.00000000e+00  4.44089210e-16  0.00000000e+00  0.00000000e+00\n",
      "   0.00000000e+00  0.00000000e+00]\n",
      " [ 0.00000000e+00  0.00000000e+00  0.00000000e+00  0.00000000e+00\n",
      "   1.00000000e+00  0.00000000e+00  0.00000000e+00  0.00000000e+00\n",
      "   0.00000000e+00  0.00000000e+00]\n",
      " [ 0.00000000e+00  0.00000000e+00  0.00000000e+00  0.00000000e+00\n",
      "   1.38777878e-17  1.00000000e+00  0.00000000e+00  0.00000000e+00\n",
      "   0.00000000e+00  0.00000000e+00]\n",
      " [ 0.00000000e+00  0.00000000e+00  0.00000000e+00  0.00000000e+00\n",
      "   0.00000000e+00  0.00000000e+00  1.00000000e+00 -5.55111512e-17\n",
      "   0.00000000e+00  0.00000000e+00]\n",
      " [ 0.00000000e+00  0.00000000e+00  0.00000000e+00  0.00000000e+00\n",
      "   0.00000000e+00  0.00000000e+00 -2.22044605e-16  1.00000000e+00\n",
      "   0.00000000e+00  0.00000000e+00]\n",
      " [ 5.55111512e-17  0.00000000e+00  0.00000000e+00  0.00000000e+00\n",
      "   0.00000000e+00  0.00000000e+00  0.00000000e+00  0.00000000e+00\n",
      "   1.00000000e+00  0.00000000e+00]\n",
      " [ 0.00000000e+00  0.00000000e+00  0.00000000e+00  0.00000000e+00\n",
      "   0.00000000e+00  0.00000000e+00  0.00000000e+00  0.00000000e+00\n",
      "   1.11022302e-16  1.00000000e+00]]\n",
      "[-6.10622664e-15 -6.77236045e-15 -6.10622664e-15 -2.22044605e-15\n",
      " -9.88098492e-15 -3.77475828e-15 -4.44089210e-15 -4.55191440e-15\n",
      " -2.22044605e-15 -4.77395901e-15]\n"
     ]
    }
   ],
   "source": [
    "An = deepcopy(A)\n",
    "Bn = copy(B)\n",
    "gauss_jordan(An, Bn, pivoting=no_pivoting)\n",
    "print(An)\n",
    "print((A @ Bn) - B)"
   ]
  },
  {
   "cell_type": "markdown",
   "metadata": {},
   "source": [
    "## Partial pivoting"
   ]
  },
  {
   "cell_type": "code",
   "execution_count": 222,
   "metadata": {},
   "outputs": [],
   "source": [
    "def swap_rows(A, B, i, j):\n",
    "    A[[i,j]] = A[[j,i]]\n",
    "    B[i], B[j] = B[j], B[i]\n",
    "def swap_columns(A, B, i, j):\n",
    "    A[:, [j,i]] = A[:, [i,j]]"
   ]
  },
  {
   "cell_type": "code",
   "execution_count": 223,
   "metadata": {},
   "outputs": [],
   "source": [
    "def partial_pivoting(A, B, i):\n",
    "    besti = i\n",
    "    for j in range(i+1,len(A)):\n",
    "        if A[besti][i] < A[j][i]:\n",
    "            besti = j\n",
    "    swap_rows(A, B, i, besti)\n",
    "    return i, i"
   ]
  },
  {
   "cell_type": "code",
   "execution_count": 224,
   "metadata": {},
   "outputs": [
    {
     "name": "stdout",
     "output_type": "stream",
     "text": [
      "[[ 1.00000000e+00  0.00000000e+00  0.00000000e+00  0.00000000e+00\n",
      "   0.00000000e+00  1.11022302e-16  0.00000000e+00  0.00000000e+00\n",
      "   0.00000000e+00  0.00000000e+00]\n",
      " [ 0.00000000e+00  1.00000000e+00  0.00000000e+00  0.00000000e+00\n",
      "   0.00000000e+00  5.55111512e-17  0.00000000e+00  0.00000000e+00\n",
      "   0.00000000e+00  0.00000000e+00]\n",
      " [ 0.00000000e+00  0.00000000e+00  1.00000000e+00  0.00000000e+00\n",
      "   0.00000000e+00  0.00000000e+00  0.00000000e+00  0.00000000e+00\n",
      "   0.00000000e+00  0.00000000e+00]\n",
      " [ 0.00000000e+00  0.00000000e+00  0.00000000e+00  1.00000000e+00\n",
      "   0.00000000e+00  0.00000000e+00  0.00000000e+00  0.00000000e+00\n",
      "   0.00000000e+00  0.00000000e+00]\n",
      " [ 0.00000000e+00  0.00000000e+00  0.00000000e+00  0.00000000e+00\n",
      "   1.00000000e+00  0.00000000e+00 -5.55111512e-17  0.00000000e+00\n",
      "   0.00000000e+00  0.00000000e+00]\n",
      " [ 0.00000000e+00  0.00000000e+00  0.00000000e+00 -2.77555756e-17\n",
      "   5.55111512e-17  1.00000000e+00  0.00000000e+00  0.00000000e+00\n",
      "   0.00000000e+00  0.00000000e+00]\n",
      " [ 0.00000000e+00  0.00000000e+00  5.55111512e-17  0.00000000e+00\n",
      "   0.00000000e+00  0.00000000e+00  1.00000000e+00  0.00000000e+00\n",
      "   0.00000000e+00  0.00000000e+00]\n",
      " [ 0.00000000e+00  0.00000000e+00  6.93889390e-18  0.00000000e+00\n",
      "   0.00000000e+00  0.00000000e+00  0.00000000e+00  1.00000000e+00\n",
      "   0.00000000e+00  0.00000000e+00]\n",
      " [ 0.00000000e+00  0.00000000e+00  0.00000000e+00  0.00000000e+00\n",
      "  -5.55111512e-17  0.00000000e+00  0.00000000e+00  0.00000000e+00\n",
      "   1.00000000e+00  0.00000000e+00]\n",
      " [ 0.00000000e+00  0.00000000e+00  0.00000000e+00  5.55111512e-17\n",
      "   0.00000000e+00  0.00000000e+00  0.00000000e+00  0.00000000e+00\n",
      "   0.00000000e+00  1.00000000e+00]]\n",
      "[ 3.44169138e-15 -1.66533454e-15  2.77555756e-15 -6.66133815e-16\n",
      "  5.88418203e-15  8.88178420e-16  2.22044605e-16  9.99200722e-16\n",
      "  1.77635684e-15  1.88737914e-15]\n"
     ]
    }
   ],
   "source": [
    "Ap = deepcopy(A)\n",
    "Bp = copy(B)\n",
    "gauss_jordan(Ap, Bp, pivoting=partial_pivoting)\n",
    "print(Ap)\n",
    "print(A @ Bp - B)"
   ]
  },
  {
   "cell_type": "markdown",
   "metadata": {},
   "source": [
    "## Full pivoting"
   ]
  },
  {
   "cell_type": "code",
   "execution_count": 225,
   "metadata": {},
   "outputs": [],
   "source": [
    "def full_pivoting(A, B, i):\n",
    "    bestj = i\n",
    "    bestk = i\n",
    "    for j in range(i,len(A)):\n",
    "        for k in range(i, len(A[j])):\n",
    "            if abs(A[bestj][bestk]) < abs(A[j][k]):\n",
    "                bestj = j\n",
    "                bestk = k\n",
    "    swap_rows(A, B, i, bestj)\n",
    "    swap_columns(A, B, i, bestk)\n",
    "    return i, bestk"
   ]
  },
  {
   "cell_type": "code",
   "execution_count": 226,
   "metadata": {},
   "outputs": [
    {
     "name": "stdout",
     "output_type": "stream",
     "text": [
      "[[ 1.00000000e+00  0.00000000e+00  0.00000000e+00  0.00000000e+00\n",
      "  -1.11022302e-16  0.00000000e+00 -1.11022302e-16  0.00000000e+00\n",
      "   0.00000000e+00  5.55111512e-17]\n",
      " [ 0.00000000e+00  1.00000000e+00  0.00000000e+00  0.00000000e+00\n",
      "   1.73472348e-18  0.00000000e+00  0.00000000e+00  0.00000000e+00\n",
      "   0.00000000e+00  0.00000000e+00]\n",
      " [ 0.00000000e+00  0.00000000e+00  1.00000000e+00  0.00000000e+00\n",
      "   0.00000000e+00  0.00000000e+00  0.00000000e+00  0.00000000e+00\n",
      "   0.00000000e+00  0.00000000e+00]\n",
      " [ 0.00000000e+00  0.00000000e+00  0.00000000e+00  1.00000000e+00\n",
      "   0.00000000e+00  0.00000000e+00  0.00000000e+00  0.00000000e+00\n",
      "   0.00000000e+00  0.00000000e+00]\n",
      " [ 0.00000000e+00  0.00000000e+00 -1.11022302e-16  0.00000000e+00\n",
      "   1.00000000e+00  0.00000000e+00  0.00000000e+00 -1.38777878e-17\n",
      "   0.00000000e+00  0.00000000e+00]\n",
      " [ 0.00000000e+00  0.00000000e+00  0.00000000e+00  0.00000000e+00\n",
      "   0.00000000e+00  1.00000000e+00  0.00000000e+00 -1.11022302e-16\n",
      "   0.00000000e+00  0.00000000e+00]\n",
      " [ 0.00000000e+00  0.00000000e+00  0.00000000e+00  0.00000000e+00\n",
      "   2.77555756e-17 -2.77555756e-17  1.00000000e+00 -6.93889390e-18\n",
      "   0.00000000e+00  0.00000000e+00]\n",
      " [ 0.00000000e+00  0.00000000e+00  0.00000000e+00  5.55111512e-17\n",
      "  -2.77555756e-17  0.00000000e+00  0.00000000e+00  1.00000000e+00\n",
      "   0.00000000e+00  0.00000000e+00]\n",
      " [ 0.00000000e+00  0.00000000e+00  0.00000000e+00  0.00000000e+00\n",
      "   0.00000000e+00  0.00000000e+00  0.00000000e+00  0.00000000e+00\n",
      "   1.00000000e+00  0.00000000e+00]\n",
      " [ 0.00000000e+00  0.00000000e+00  0.00000000e+00  0.00000000e+00\n",
      "   0.00000000e+00  0.00000000e+00  0.00000000e+00  0.00000000e+00\n",
      "   0.00000000e+00  1.00000000e+00]]\n",
      "[-5.55111512e-16 -1.11022302e-16 -7.77156117e-16 -8.88178420e-16\n",
      " -5.55111512e-16 -8.88178420e-16 -8.88178420e-16  1.11022302e-16\n",
      " -8.88178420e-16 -7.77156117e-16]\n"
     ]
    }
   ],
   "source": [
    "Af = deepcopy(A) #np.array([[1.,-4.,4.,7.], [0.,2.,-1.,0.], [2.,1.,1.,4.], [2.,-3.,2.,-5.]]) #deepcopy(A)\n",
    "Bf = copy(B) #np.array([4.,5.,2.,9.])#copy(B)\n",
    "gauss_jordan(Af, Bf, pivoting=full_pivoting)\n",
    "print(Af)\n",
    "print(A @ Bf - B)"
   ]
  },
  {
   "cell_type": "markdown",
   "metadata": {},
   "source": [
    "# Zadanie 2"
   ]
  },
  {
   "cell_type": "code",
   "execution_count": 227,
   "metadata": {},
   "outputs": [],
   "source": [
    "def LU(A):\n",
    "    for i in range(len(A[0])):\n",
    "        #counting\n",
    "        for j in range(i+1, len(A)):\n",
    "            d = -A[j][i]/A[i][i]\n",
    "            for k in range(i, len(A[i])):\n",
    "                A[j][k] += d*A[i][k]\n",
    "            A[j][i] = -d;\n",
    "    L = np.zeros((len(A), len(A)))\n",
    "    U = np.zeros((len(A), len(A)))\n",
    "    for i in range(len(A[0])):\n",
    "        for j in range(len(A)):\n",
    "            if i==j:\n",
    "                L[i][j] = 1\n",
    "                U[i][j] = A[i][j]\n",
    "            elif i < j:\n",
    "                L[i][j] = 0\n",
    "                U[i][j] = A[i][j]\n",
    "            else:\n",
    "                L[i][j] = A[i][j]\n",
    "                U[i][j] = 0\n",
    "    return L, U\n",
    "                "
   ]
  },
  {
   "cell_type": "code",
   "execution_count": 228,
   "metadata": {},
   "outputs": [
    {
     "name": "stdout",
     "output_type": "stream",
     "text": [
      "[[0.31788932 0.43112727 0.27060306 0.42254615 0.53504442]\n",
      " [0.58645433 0.15811122 0.72487582 0.67803905 0.25933941]\n",
      " [0.31779495 0.81341488 0.86205091 0.31926918 0.74089111]\n",
      " [0.03096101 0.06577777 0.74693867 0.85298978 0.99496591]\n",
      " [0.23817091 0.13202511 0.51304136 0.94156378 0.48105622]]\n",
      "[[ 1.          0.          0.          0.          0.        ]\n",
      " [ 1.84483812  1.          0.          0.          0.        ]\n",
      " [ 0.99970315 -0.60010407  1.          0.          0.        ]\n",
      " [ 0.09739555 -0.03732905  1.00283495  1.          0.        ]\n",
      " [ 0.74922589  0.29970493  0.33381859  0.73019375  1.        ]]\n",
      "[[ 0.31788932  0.43112727  0.27060306  0.42254615  0.53504442]\n",
      " [ 0.         -0.6372488   0.22565697 -0.1014902  -0.72773093]\n",
      " [ 0.          0.          0.72694584 -0.16405622 -0.23070877]\n",
      " [ 0.          0.          0.          0.97256844  1.14705228]\n",
      " [ 0.          0.          0.          0.         -0.46226389]]\n",
      "[[0.31788932 0.43112727 0.27060306 0.42254615 0.53504442]\n",
      " [0.58645433 0.15811122 0.72487582 0.67803905 0.25933941]\n",
      " [0.31779495 0.81341488 0.86205091 0.31926918 0.74089111]\n",
      " [0.03096101 0.06577777 0.74693867 0.85298978 0.99496591]\n",
      " [0.23817091 0.13202511 0.51304136 0.94156378 0.48105622]]\n"
     ]
    }
   ],
   "source": [
    "A = np.random.rand(5,5)\n",
    "print(A)\n",
    "L, U = LU(A)\n",
    "print(L)\n",
    "print(U)\n",
    "print(L @ U)"
   ]
  },
  {
   "cell_type": "markdown",
   "metadata": {},
   "source": [
    "# Zadanie 3"
   ]
  },
  {
   "cell_type": "code",
   "execution_count": 252,
   "metadata": {},
   "outputs": [],
   "source": [
    "# File format:\n",
    "# node1,node2,resistance_between_them\n",
    "# and exactly one row as s,node1,node2,sem - source\n",
    "def import_graph_from_file(file):\n",
    "    records = []\n",
    "    G = nx.Graph()\n",
    "    with open(file, \"r\") as csvfile:\n",
    "        reader = csv.reader(csvfile)\n",
    "        for row in reader:\n",
    "            records.append(row)\n",
    "    for i, record in enumerate(records):\n",
    "        if record[0] == 's':\n",
    "            G.add_edge(int(record[1]), int(record[2]), R=0, sem=int(record[3]), no=i)\n",
    "        else:\n",
    "            G.add_edge(int(record[0]), int(record[1]), R=abs(int(record[2])), no=i, sem=0)\n",
    "    print(G.edges)\n",
    "    return G"
   ]
  },
  {
   "cell_type": "code",
   "execution_count": 263,
   "metadata": {},
   "outputs": [],
   "source": [
    "# we assume that current flows from node with bigger no to one with smaller\n",
    "def eqs_Kirchoff_I(G):\n",
    "    eqs = []\n",
    "    b = [0 for i in range(len(G.nodes))]\n",
    "    for n in G.nodes:\n",
    "        I = [0 for i in range(len(G.edges))]\n",
    "        for e in G.edges(n):\n",
    "            data = G.get_edge_data(*e)\n",
    "            I[data['no']] = 1 if e[0] > e[1] else -1\n",
    "        eqs.append(I)\n",
    "    return eqs, b"
   ]
  },
  {
   "cell_type": "code",
   "execution_count": 264,
   "metadata": {},
   "outputs": [],
   "source": [
    "def eqs_Kirchoff_II(G):\n",
    "    eqs = []\n",
    "    b = []\n",
    "    for cycle in nx.cycle_basis(G):\n",
    "        I = [0 for i in range(len(G.edges))]\n",
    "        b.append(0)\n",
    "        for i in range(len(cycle)):\n",
    "            n1 = cycle[i]\n",
    "            n2 = cycle[(i + 1) % len(cycle)]\n",
    "            data = G.get_edge_data(n1, n2)\n",
    "            I[data['no']] = data['R'] if n1 > n2 else -data['R']\n",
    "            b[-1] += data['sem'] if n1 > n2 else -data['sem']\n",
    "        eqs.append(I)\n",
    "    return eqs, b"
   ]
  },
  {
   "cell_type": "code",
   "execution_count": 265,
   "metadata": {},
   "outputs": [],
   "source": [
    "def create_eqs(G):\n",
    "    eqs, b = eqs_Kirchoff_I(G)\n",
    "    eqs2, b2 = eqs_Kirchoff_II(G)\n",
    "    eqs += eqs2\n",
    "    b += b2\n",
    "    return eqs, b"
   ]
  },
  {
   "cell_type": "code",
   "execution_count": 274,
   "metadata": {},
   "outputs": [],
   "source": [
    "def solve(A, B, G):\n",
    "    I = np.linalg.lstsq(A, B, rcond=None)[0]\n",
    "    for e in G.edges:\n",
    "        edg = G.get_edge_data(*e)\n",
    "        edg['I'] = I[edg['no']]\n",
    "    return G"
   ]
  },
  {
   "cell_type": "code",
   "execution_count": 285,
   "metadata": {},
   "outputs": [],
   "source": [
    "def validate(G, eps = 1e-8):\n",
    "    for n in G.nodes:\n",
    "        sum = 0\n",
    "        for e in G.edges(n):\n",
    "            I = G.get_edge_data(*e)['I']\n",
    "            sum += I if e[0] > e[1] else -I\n",
    "        if abs(sum) > eps:\n",
    "            raise Exception('Currents in node don\\'t sum up to 0')\n",
    "                "
   ]
  },
  {
   "cell_type": "code",
   "execution_count": 286,
   "metadata": {},
   "outputs": [
    {
     "name": "stdout",
     "output_type": "stream",
     "text": [
      "[(1, 4), (1, 2), (1, 3), (4, 2), (4, 3), (2, 3)]\n",
      "[[-1, -1, 0, 0, -1, 0], [1, 0, 1, 0, 0, 1], [0, 1, -1, -1, 0, 0], [0, 0, 0, 1, 1, -1], [0, -3, 0, -1, 4, 0], [0, 0, 0, 0, 4, 5], [0, 3, 2, 0, 0, 0]] [0, 0, 0, 0, 0, -3, -3]\n",
      "[ 0.94974874 -0.55778894 -0.66331658  0.10552764 -0.3919598  -0.28643216]\n"
     ]
    }
   ],
   "source": [
    "G = import_graph_from_file('small.csv')\n",
    "I, E = create_eqs(G)\n",
    "G = solve(I, E, G)\n",
    "validate(G)"
   ]
  },
  {
   "cell_type": "code",
   "execution_count": 173,
   "metadata": {},
   "outputs": [
    {
     "data": {
      "text/plain": [
       "EdgeView([(1, 2), (1, 3), (2, 4), (2, 3), (4, 3)])"
      ]
     },
     "execution_count": 173,
     "metadata": {},
     "output_type": "execute_result"
    }
   ],
   "source": []
  },
  {
   "cell_type": "code",
   "execution_count": null,
   "metadata": {},
   "outputs": [],
   "source": []
  }
 ],
 "metadata": {
  "kernelspec": {
   "display_name": ".venv",
   "language": "python",
   "name": ".venv"
  },
  "language_info": {
   "codemirror_mode": {
    "name": "ipython",
    "version": 3
   },
   "file_extension": ".py",
   "mimetype": "text/x-python",
   "name": "python",
   "nbconvert_exporter": "python",
   "pygments_lexer": "ipython3",
   "version": "3.7.0"
  }
 },
 "nbformat": 4,
 "nbformat_minor": 2
}
