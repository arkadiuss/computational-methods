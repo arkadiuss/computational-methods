{
 "cells": [
  {
   "cell_type": "code",
   "execution_count": 13,
   "metadata": {},
   "outputs": [],
   "source": [
    "import scipy\n",
    "import scipy.integrate as integrate\n",
    "import numpy as np\n",
    "import matplotlib.pyplot as plt"
   ]
  },
  {
   "cell_type": "markdown",
   "metadata": {},
   "source": [
    "## 1"
   ]
  },
  {
   "cell_type": "code",
   "execution_count": 5,
   "metadata": {},
   "outputs": [],
   "source": [
    "def road_length(v, t):\n",
    "    return integrate.trapz(v, t)"
   ]
  },
  {
   "cell_type": "code",
   "execution_count": 17,
   "metadata": {},
   "outputs": [
    {
     "name": "stdout",
     "output_type": "stream",
     "text": [
      "Road length is: 68.25\n"
     ]
    },
    {
     "data": {
      "image/png": "[encoded data removed]",
      "text/plain": [
       "<Figure size 432x288 with 1 Axes>"
      ]
     },
     "metadata": {
      "needs_background": "light"
     },
     "output_type": "display_data"
    }
   ],
   "source": [
    "v = np.array([0.5, 1, 2, 5, 8, 8, 8, 10, 8, 7, 6, 10])\n",
    "t = np.arange(0, 12, 1)\n",
    "\n",
    "plt.plot(t, v)\n",
    "print(\"Road length is: \" + str(road_length(v, t)))"
   ]
  },
  {
   "cell_type": "code",
   "execution_count": 19,
   "metadata": {},
   "outputs": [
    {
     "name": "stdout",
     "output_type": "stream",
     "text": [
      "Road length is: 24.0\n"
     ]
    },
    {
     "data": {
      "image/png": "[encoded data removed]",
      "text/plain": [
       "<Figure size 432x288 with 1 Axes>"
      ]
     },
     "metadata": {
      "needs_background": "light"
     },
     "output_type": "display_data"
    }
   ],
   "source": [
    "v = np.array([1,2,3,4,5,6,7])\n",
    "t = np.arange(0, 7, 1)\n",
    "\n",
    "plt.plot(t, v)\n",
    "print(\"Road length is: \" + str(road_length(v, t)))"
   ]
  },
  {
   "cell_type": "markdown",
   "metadata": {},
   "source": [
    "## 2"
   ]
  },
  {
   "cell_type": "code",
   "execution_count": 55,
   "metadata": {},
   "outputs": [],
   "source": [
    "def simpson(x, y):\n",
    "    S = 0\n",
    "    for i in range(1, len(x)-1, 2):\n",
    "        S += (x[i+1]-x[i])/3*(y[i-1] + 4*y[i] + y[i+1])\n",
    "    return S"
   ]
  },
  {
   "cell_type": "code",
   "execution_count": 59,
   "metadata": {},
   "outputs": [
    {
     "name": "stdout",
     "output_type": "stream",
     "text": [
      "80.16666666666666 80.16666666666666 (80.76923076923063, 9.011184825265625e-13)\n"
     ]
    }
   ],
   "source": [
    "y = np.array([0.5, 1, 2, 5, 8, 8, 8, 10, 8, 7, 6, 10, 12])\n",
    "x = np.arange(0, 13, 1)\n",
    "f = np.poly1d(np.polyfit(x, y, 3)) \n",
    "print(simpson(x, y), integrate.simps(y,x), integrate.quad(f, x[0], x[-1]))"
   ]
  },
  {
   "cell_type": "markdown",
   "metadata": {},
   "source": [
    "## 3"
   ]
  },
  {
   "cell_type": "code",
   "execution_count": 62,
   "metadata": {},
   "outputs": [],
   "source": [
    "def f4(y, x):\n",
    "    return 1/(np.sqrt(x+y)*(1+x+y))\n",
    "\n",
    "def f5(y, x):\n",
    "    return x*x+y*y"
   ]
  },
  {
   "cell_type": "code",
   "execution_count": 63,
   "metadata": {},
   "outputs": [
    {
     "name": "stdout",
     "output_type": "stream",
     "text": [
      "(0.4292036732051043, 2.1056482296104932e-08)\n"
     ]
    }
   ],
   "source": [
    "print(integrate.dblquad(f4, 0, 1, lambda x: 0, lambda x: 1 - x))"
   ]
  },
  {
   "cell_type": "code",
   "execution_count": 64,
   "metadata": {},
   "outputs": [
    {
     "name": "stdout",
     "output_type": "stream",
     "text": [
      "(680.0, 7.549516567451064e-12)\n"
     ]
    }
   ],
   "source": [
    "print(integrate.dblquad(f5, -3, 3, lambda x: -5, lambda x: 5))"
   ]
  },
  {
   "cell_type": "code",
   "execution_count": 80,
   "metadata": {},
   "outputs": [],
   "source": [
    "def trap2(f, den=400):\n",
    "    xs = np.arange(-3,3,1/den)\n",
    "    ys = np.arange(-5, 5, 1/den)\n",
    "    vf = np.array([[f5(y, x) for y in ys] for x in xs])\n",
    "    trap1 = [integrate.trapz(fx, ys) for fx in vf]\n",
    "    return integrate.trapz(trap1, xs)"
   ]
  },
  {
   "cell_type": "code",
   "execution_count": 81,
   "metadata": {},
   "outputs": [
    {
     "name": "stdout",
     "output_type": "stream",
     "text": [
      "679.1473788752791\n"
     ]
    }
   ],
   "source": [
    "print(trap2(f5))"
   ]
  }
 ],
 "metadata": {
  "kernelspec": {
   "display_name": ".venv",
   "language": "python",
   "name": ".venv"
  },
  "language_info": {
   "codemirror_mode": {
    "name": "ipython",
    "version": 3
   },
   "file_extension": ".py",
   "mimetype": "text/x-python",
   "name": "python",
   "nbconvert_exporter": "python",
   "pygments_lexer": "ipython3",
   "version": "3.7.0"
  }
 },
 "nbformat": 4,
 "nbformat_minor": 2
}
