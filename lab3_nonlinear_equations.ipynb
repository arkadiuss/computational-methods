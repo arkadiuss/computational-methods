{
 "cells": [
  {
   "cell_type": "markdown",
   "metadata": {},
   "source": [
    "# Równania nieliniowe"
   ]
  },
  {
   "cell_type": "markdown",
   "metadata": {},
   "source": [
    "## 1"
   ]
  },
  {
   "cell_type": "code",
   "execution_count": 95,
   "metadata": {},
   "outputs": [],
   "source": [
    "from mpmath import mp"
   ]
  },
  {
   "cell_type": "code",
   "execution_count": 179,
   "metadata": {},
   "outputs": [],
   "source": [
    "def f1(x):\n",
    "    return mp.cos(x)*mp.cosh(x) - 1\n",
    "\n",
    "def f2(x):\n",
    "    return mp.mpf(1)/x - mp.tan(x)\n",
    "\n",
    "def f3(x):\n",
    "    return mp.mpf(2)**(-x) + mp.exp(x) + mp.mpf(2)*mp.cos(x) - mp.mpf(6)\n",
    "\n",
    "def df1(x):\n",
    "    return mp.cos(x)*mp.sinh(x) - mp.cosh(x)*mp.sin(x) \n",
    "\n",
    "def df2(x):\n",
    "    return -mp.mpf(1)/(x**2) - mp.mpf(1)/(mp.cos(x)**2)\n",
    "\n",
    "def df3(x):\n",
    "    return -2*mp.sin(x) + mp.exp(x) + mp.ln(2)/(mp.mpf(2)**x)"
   ]
  },
  {
   "cell_type": "code",
   "execution_count": 180,
   "metadata": {},
   "outputs": [],
   "source": [
    "eps = mp.mpf('0.0000000001')\n",
    "F1 = (f1, mp.pi*3/2, mp.pi*2)\n",
    "F2 = (f2, mp.pi/2,mp.mpf(-1))\n",
    "F3 = (f3, mp.mpf(1), mp.mpf(3))\n",
    "\n",
    "F1d = (f1, df1, mp.pi*3/2, mp.pi*2)\n",
    "F2d = (f2, df2, mp.mpf(-1),mp.pi/2)\n",
    "F3d = (f3, df3, mp.mpf(1), mp.mpf(3))\n",
    "\n",
    "mp.dps = 33\n",
    "def reset_prec():\n",
    "    mp.dps = 15"
   ]
  },
  {
   "cell_type": "code",
   "execution_count": 181,
   "metadata": {},
   "outputs": [],
   "source": [
    "def bisect(f, a, b, eps):\n",
    "    if f(a) > 0:\n",
    "        a, b = b, a\n",
    "    c = (a + b)/mp.mpf(2)\n",
    "    i = 0\n",
    "    while abs(f(c)) > eps:\n",
    "        c = (a + b)/mp.mpf(2)\n",
    "        if f(c) > mp.mpf(0):\n",
    "            b = c\n",
    "        else:\n",
    "            a = c\n",
    "        i += 1\n",
    "    return c, i"
   ]
  },
  {
   "cell_type": "code",
   "execution_count": 182,
   "metadata": {},
   "outputs": [
    {
     "name": "stdout",
     "output_type": "stream",
     "text": [
      "(mpf('4.73004074486296146875455801695681821'), 32)\n",
      "(mpf('1.82938360192929394543170928955078125'), 36)\n"
     ]
    }
   ],
   "source": [
    "print(bisect(*F1, eps))\n",
    "print(bisect(*F3, eps))"
   ]
  },
  {
   "cell_type": "code",
   "execution_count": 183,
   "metadata": {},
   "outputs": [],
   "source": [
    "def newton(f, df, a, b, eps):\n",
    "    x = b if f(b) > f(a) else a\n",
    "    i = 0\n",
    "    while abs(f(x)) > eps:\n",
    "        x = x - f(x)/df(x)\n",
    "        i += 1\n",
    "    return x, i"
   ]
  },
  {
   "cell_type": "code",
   "execution_count": 184,
   "metadata": {},
   "outputs": [
    {
     "name": "stdout",
     "output_type": "stream",
     "text": [
      "(mpf('4.73004074486277555033244017259488659'), 6)\n",
      "(mpf('1.82938360194545306284350674027061402'), 12)\n"
     ]
    }
   ],
   "source": [
    "print(newton(*F1d, eps))\n",
    "print(newton(*F3d, eps))"
   ]
  },
  {
   "cell_type": "code",
   "execution_count": 185,
   "metadata": {},
   "outputs": [],
   "source": [
    "def secant(f, a, b, eps):\n",
    "    x1 = a\n",
    "    x2 = b\n",
    "    i = 0\n",
    "    while abs(f(x2)-f(x1)) > eps:\n",
    "        tmp = (x1*f(x2) - x2*f(x1))/(f(x2) - f(x1))\n",
    "        x1 = x2\n",
    "        x2 = tmp\n",
    "        i += 1\n",
    "    return x2, i"
   ]
  },
  {
   "cell_type": "code",
   "execution_count": 186,
   "metadata": {},
   "outputs": [
    {
     "name": "stdout",
     "output_type": "stream",
     "text": [
      "(mpf('4.73004074486270402602404809794561768'), 7)\n",
      "(mpf('1.82938360193384881628224443562502264'), 10)\n"
     ]
    }
   ],
   "source": [
    "print(secant(*F1, eps))\n",
    "print(secant(*F3, eps))"
   ]
  },
  {
   "cell_type": "code",
   "execution_count": null,
   "metadata": {},
   "outputs": [],
   "source": []
  }
 ],
 "metadata": {
  "kernelspec": {
   "display_name": ".venv",
   "language": "python",
   "name": ".venv"
  },
  "language_info": {
   "codemirror_mode": {
    "name": "ipython",
    "version": 3
   },
   "file_extension": ".py",
   "mimetype": "text/x-python",
   "name": "python",
   "nbconvert_exporter": "python",
   "pygments_lexer": "ipython3",
   "version": "3.7.0"
  }
 },
 "nbformat": 4,
 "nbformat_minor": 2
}
